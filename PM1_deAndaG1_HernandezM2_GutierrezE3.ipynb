{
 "cells": [
  {
   "cell_type": "markdown",
   "id": "3e29318b",
   "metadata": {},
   "source": [
    "# Proyecto Primer módulo "
   ]
  },
  {
   "cell_type": "markdown",
   "id": "f358cee3",
   "metadata": {},
   "source": [
    "## Problema programación lineal\n"
   ]
  },
  {
   "cell_type": "markdown",
   "id": "c174c427",
   "metadata": {},
   "source": [
    "Un inversionista dispone de $\\$100,000$ MXN y quiere sacar el máximo provecho de un portafolio de inversiones conservador. Este se divide en 4 tipos de activos; Cetes, Bonos del gobierno, Pagarés y ETF's todos y cada uno de los activos tienen una tasa de renta fija debido al estilo de portafolio el cual es conservador. El portafolio se divide en 3; activos con tasa libre de riesgo (60%), activos bajo riesgo (30%) y activos bajo-medio riesgo (10%) activos  activos con tasas libres de riesgo (Cetes 9.8%, Bonos gubernamentales 10.14% y Bonos del tesoro 3.05%), activos de bajo riesgo; Pagarés bancarios (pagaré inbursa 9.7%, pagaré BAM 9.30%, pagaré Multiva 8.02% y pagaré Banorte 4.44%) y activos de riesgo bajo-medio; ETF'S (Short-Term Treasury ETF 0.04%, ESG U.S. Corporate Bond ETF 0.12%, Extended Duration Treasury ETF 0.06). Para cada activo máximo se puede invertir un 25% de capital de que se dispone y el activo ETF no puede superar .05% del capital total por temas del riesgo."
   ]
  },
  {
   "cell_type": "markdown",
   "id": "28674c95",
   "metadata": {},
   "source": [
    "**Libre de riesgo 60%**\n",
    "- Cetes 9.8%\n",
    "- Bonos gubernamentales 10.14%\n",
    "- Bonos del tesoro EUA 3.05% \n",
    "**Riesgo bajo 30%**\n",
    "- Pagaré Inbursa 9.75%           20%\n",
    "- Pagaré BAM 9.30\\%\n",
    "- Pagaré Multiva 8.02\\%\n",
    "- Pagaré Banorte 4.44\\%\n",
    "**Riesgo bajo-medio 10%**\n",
    "- Short-Term Treasury ETF 0.04\\%           20%\n",
    "    - ESG U.S. Corporate Bond ETF 0.12\\%\n",
    "    - Extended Duration Treasury ETF 0.06\\%\n",
    "\n"
   ]
  },
  {
   "cell_type": "code",
   "execution_count": 545,
   "id": "3dda61f2",
   "metadata": {},
   "outputs": [],
   "source": [
    "import numpy as np \n",
    "import scipy.optimize as opt"
   ]
  },
  {
   "cell_type": "code",
   "execution_count": 706,
   "id": "01a7aaff",
   "metadata": {
    "scrolled": true
   },
   "outputs": [],
   "source": [
    "# Matrices y cotas\n",
    "c = -np.array([9.8,10.14,3.05,9.75,9.30,8.02,4.44,0.04,0.12,0.06])/100\n",
    "\n",
    "# Restricciones de desigualdad\n",
    "A = np.array([[1,1,1,0,0,0,0,0,0,0],\n",
    "             [0,0,0,1,1,1,1,0,0,0],\n",
    "             [0,0,0,0,0,0,0,1,1,1]])\n",
    "\n",
    "b = np.array([0.60*100000,.30*100000,.10*100000])\n",
    "\n",
    "# Restricción de igualdad\n",
    "A_eq = np.array([[1,1,1,1,1,1,1,1,1,1]])\n",
    "b_eq = ([100000])\n",
    "\n",
    "#Límites (bounds)\n",
    "bounds = (0,100000*.25)"
   ]
  },
  {
   "cell_type": "code",
   "execution_count": 707,
   "id": "8206b010",
   "metadata": {},
   "outputs": [],
   "source": [
    "# Resolver\n",
    "sol_portafolio = opt.linprog(c,A,b,A_eq,b_eq,bounds,method='revised simplex')"
   ]
  },
  {
   "cell_type": "code",
   "execution_count": 708,
   "id": "59a2a7b1",
   "metadata": {},
   "outputs": [
    {
     "data": {
      "text/plain": [
       "     con: array([0.])\n",
       "     fun: -8204.5\n",
       " message: 'Optimization terminated successfully.'\n",
       "     nit: 8\n",
       "   slack: array([0., 0., 0.])\n",
       "  status: 0\n",
       " success: True\n",
       "       x: array([25000., 25000., 10000., 25000.,  5000.,     0.,     0.,     0.,\n",
       "       10000.,     0.])"
      ]
     },
     "execution_count": 708,
     "metadata": {},
     "output_type": "execute_result"
    }
   ],
   "source": [
    "sol_portafolio"
   ]
  },
  {
   "cell_type": "markdown",
   "id": "9c28c82b",
   "metadata": {},
   "source": [
    "## Para maximizar la utilidad del portafolio se deberá invertir:\n",
    "- $\\$25,000$ en Cetes\n",
    "- $\\$25,000$ en Bonos del gobierno\n",
    "- $\\$10,000$ en Bonos del tesoro \n",
    "- $\\$25,000$ en Pagarés inbursa\n",
    "- $\\$5,000$ en Pagarés BAM\n",
    "- $\\$10,000$ en ESG U.S. Corporate Bond ETF 0.12%"
   ]
  },
  {
   "cell_type": "code",
   "execution_count": 650,
   "id": "ade9b837",
   "metadata": {},
   "outputs": [
    {
     "data": {
      "text/plain": [
       "8204.5"
      ]
     },
     "execution_count": 650,
     "metadata": {},
     "output_type": "execute_result"
    }
   ],
   "source": [
    "utilidad = 25000*(9.8/100)+25000*(10.14/100)+10000*(3.05/100)+25000*(9.75/100)+5000*(9.30/100)+10000*(.12/100)\n",
    "utilidad"
   ]
  },
  {
   "cell_type": "markdown",
   "id": "292056af",
   "metadata": {},
   "source": [
    "El portafolio tendría una utilidad anual de **$\\$8204.5$** MXN"
   ]
  },
  {
   "cell_type": "markdown",
   "id": "68e831c0",
   "metadata": {},
   "source": [
    "## Problema ajuste de curvas"
   ]
  },
  {
   "cell_type": "code",
   "execution_count": 710,
   "id": "0117e395",
   "metadata": {},
   "outputs": [],
   "source": [
    "import pandas as pd\n"
   ]
  },
  {
   "cell_type": "code",
   "execution_count": 711,
   "id": "086647ef",
   "metadata": {},
   "outputs": [
    {
     "data": {
      "text/html": [
       "<div>\n",
       "<style scoped>\n",
       "    .dataframe tbody tr th:only-of-type {\n",
       "        vertical-align: middle;\n",
       "    }\n",
       "\n",
       "    .dataframe tbody tr th {\n",
       "        vertical-align: top;\n",
       "    }\n",
       "\n",
       "    .dataframe thead th {\n",
       "        text-align: right;\n",
       "    }\n",
       "</style>\n",
       "<table border=\"1\" class=\"dataframe\">\n",
       "  <thead>\n",
       "    <tr style=\"text-align: right;\">\n",
       "      <th></th>\n",
       "      <th>Fecha</th>\n",
       "      <th>Número de día</th>\n",
       "      <th>Precio Fibras MTY stock</th>\n",
       "    </tr>\n",
       "  </thead>\n",
       "  <tbody>\n",
       "    <tr>\n",
       "      <th>0</th>\n",
       "      <td>25.07.2022</td>\n",
       "      <td>1</td>\n",
       "      <td>11.924</td>\n",
       "    </tr>\n",
       "    <tr>\n",
       "      <th>1</th>\n",
       "      <td>26.07.2022</td>\n",
       "      <td>2</td>\n",
       "      <td>12.003</td>\n",
       "    </tr>\n",
       "    <tr>\n",
       "      <th>2</th>\n",
       "      <td>27.07.2022</td>\n",
       "      <td>3</td>\n",
       "      <td>11.934</td>\n",
       "    </tr>\n",
       "    <tr>\n",
       "      <th>3</th>\n",
       "      <td>28.07.2022</td>\n",
       "      <td>4</td>\n",
       "      <td>11.924</td>\n",
       "    </tr>\n",
       "    <tr>\n",
       "      <th>4</th>\n",
       "      <td>29.07.2022</td>\n",
       "      <td>5</td>\n",
       "      <td>11.924</td>\n",
       "    </tr>\n",
       "    <tr>\n",
       "      <th>5</th>\n",
       "      <td>01.08.2022</td>\n",
       "      <td>6</td>\n",
       "      <td>11.924</td>\n",
       "    </tr>\n",
       "    <tr>\n",
       "      <th>6</th>\n",
       "      <td>02.08.2022</td>\n",
       "      <td>7</td>\n",
       "      <td>11.934</td>\n",
       "    </tr>\n",
       "    <tr>\n",
       "      <th>7</th>\n",
       "      <td>03.08.2022</td>\n",
       "      <td>8</td>\n",
       "      <td>11.944</td>\n",
       "    </tr>\n",
       "    <tr>\n",
       "      <th>8</th>\n",
       "      <td>04.08.2022</td>\n",
       "      <td>9</td>\n",
       "      <td>11.973</td>\n",
       "    </tr>\n",
       "    <tr>\n",
       "      <th>9</th>\n",
       "      <td>05.08.2022</td>\n",
       "      <td>10</td>\n",
       "      <td>11.973</td>\n",
       "    </tr>\n",
       "    <tr>\n",
       "      <th>10</th>\n",
       "      <td>08.08.2022</td>\n",
       "      <td>11</td>\n",
       "      <td>11.963</td>\n",
       "    </tr>\n",
       "    <tr>\n",
       "      <th>11</th>\n",
       "      <td>09.08.2022</td>\n",
       "      <td>12</td>\n",
       "      <td>11.963</td>\n",
       "    </tr>\n",
       "    <tr>\n",
       "      <th>12</th>\n",
       "      <td>10.08.2022</td>\n",
       "      <td>13</td>\n",
       "      <td>11.924</td>\n",
       "    </tr>\n",
       "    <tr>\n",
       "      <th>13</th>\n",
       "      <td>11.08.2022</td>\n",
       "      <td>14</td>\n",
       "      <td>11.963</td>\n",
       "    </tr>\n",
       "    <tr>\n",
       "      <th>14</th>\n",
       "      <td>12.08.2022</td>\n",
       "      <td>15</td>\n",
       "      <td>11.953</td>\n",
       "    </tr>\n",
       "    <tr>\n",
       "      <th>15</th>\n",
       "      <td>15.08.2022</td>\n",
       "      <td>16</td>\n",
       "      <td>11.973</td>\n",
       "    </tr>\n",
       "    <tr>\n",
       "      <th>16</th>\n",
       "      <td>16.08.2022</td>\n",
       "      <td>17</td>\n",
       "      <td>11.934</td>\n",
       "    </tr>\n",
       "    <tr>\n",
       "      <th>17</th>\n",
       "      <td>17.08.2022</td>\n",
       "      <td>18</td>\n",
       "      <td>11.944</td>\n",
       "    </tr>\n",
       "    <tr>\n",
       "      <th>18</th>\n",
       "      <td>18.08.2022</td>\n",
       "      <td>19</td>\n",
       "      <td>11.934</td>\n",
       "    </tr>\n",
       "    <tr>\n",
       "      <th>19</th>\n",
       "      <td>19.08.2022</td>\n",
       "      <td>20</td>\n",
       "      <td>11.953</td>\n",
       "    </tr>\n",
       "    <tr>\n",
       "      <th>20</th>\n",
       "      <td>22.08.2022</td>\n",
       "      <td>21</td>\n",
       "      <td>11.924</td>\n",
       "    </tr>\n",
       "    <tr>\n",
       "      <th>21</th>\n",
       "      <td>23.08.2022</td>\n",
       "      <td>22</td>\n",
       "      <td>11.944</td>\n",
       "    </tr>\n",
       "    <tr>\n",
       "      <th>22</th>\n",
       "      <td>24.08.2022</td>\n",
       "      <td>23</td>\n",
       "      <td>11.934</td>\n",
       "    </tr>\n",
       "    <tr>\n",
       "      <th>23</th>\n",
       "      <td>25.08.2022</td>\n",
       "      <td>24</td>\n",
       "      <td>11.983</td>\n",
       "    </tr>\n",
       "    <tr>\n",
       "      <th>24</th>\n",
       "      <td>26.08.2022</td>\n",
       "      <td>25</td>\n",
       "      <td>12.063</td>\n",
       "    </tr>\n",
       "    <tr>\n",
       "      <th>25</th>\n",
       "      <td>29.08.2022</td>\n",
       "      <td>26</td>\n",
       "      <td>11.987</td>\n",
       "    </tr>\n",
       "    <tr>\n",
       "      <th>26</th>\n",
       "      <td>30.08.2022</td>\n",
       "      <td>27</td>\n",
       "      <td>11.997</td>\n",
       "    </tr>\n",
       "    <tr>\n",
       "      <th>27</th>\n",
       "      <td>31.08.2022</td>\n",
       "      <td>28</td>\n",
       "      <td>11.977</td>\n",
       "    </tr>\n",
       "    <tr>\n",
       "      <th>28</th>\n",
       "      <td>01.09.2022</td>\n",
       "      <td>29</td>\n",
       "      <td>11.987</td>\n",
       "    </tr>\n",
       "    <tr>\n",
       "      <th>29</th>\n",
       "      <td>02.09.2022</td>\n",
       "      <td>30</td>\n",
       "      <td>12.007</td>\n",
       "    </tr>\n",
       "    <tr>\n",
       "      <th>30</th>\n",
       "      <td>05.09.2022</td>\n",
       "      <td>31</td>\n",
       "      <td>12.017</td>\n",
       "    </tr>\n",
       "    <tr>\n",
       "      <th>31</th>\n",
       "      <td>06.09.2022</td>\n",
       "      <td>32</td>\n",
       "      <td>12.067</td>\n",
       "    </tr>\n",
       "    <tr>\n",
       "      <th>32</th>\n",
       "      <td>07.09.2022</td>\n",
       "      <td>33</td>\n",
       "      <td>12.136</td>\n",
       "    </tr>\n",
       "    <tr>\n",
       "      <th>33</th>\n",
       "      <td>08.09.2022</td>\n",
       "      <td>34</td>\n",
       "      <td>12.150</td>\n",
       "    </tr>\n",
       "    <tr>\n",
       "      <th>34</th>\n",
       "      <td>09.09.2022</td>\n",
       "      <td>35</td>\n",
       "      <td>12.140</td>\n",
       "    </tr>\n",
       "    <tr>\n",
       "      <th>35</th>\n",
       "      <td>12.09.2022</td>\n",
       "      <td>36</td>\n",
       "      <td>12.140</td>\n",
       "    </tr>\n",
       "    <tr>\n",
       "      <th>36</th>\n",
       "      <td>13.09.2022</td>\n",
       "      <td>37</td>\n",
       "      <td>12.160</td>\n",
       "    </tr>\n",
       "    <tr>\n",
       "      <th>37</th>\n",
       "      <td>14.09.2022</td>\n",
       "      <td>38</td>\n",
       "      <td>12.200</td>\n",
       "    </tr>\n",
       "    <tr>\n",
       "      <th>38</th>\n",
       "      <td>15.09.2022</td>\n",
       "      <td>39</td>\n",
       "      <td>12.200</td>\n",
       "    </tr>\n",
       "    <tr>\n",
       "      <th>39</th>\n",
       "      <td>19.09.2022</td>\n",
       "      <td>40</td>\n",
       "      <td>12.220</td>\n",
       "    </tr>\n",
       "    <tr>\n",
       "      <th>40</th>\n",
       "      <td>20.09.2022</td>\n",
       "      <td>41</td>\n",
       "      <td>12.240</td>\n",
       "    </tr>\n",
       "    <tr>\n",
       "      <th>41</th>\n",
       "      <td>21.09.2022</td>\n",
       "      <td>42</td>\n",
       "      <td>12.200</td>\n",
       "    </tr>\n",
       "    <tr>\n",
       "      <th>42</th>\n",
       "      <td>22.09.2022</td>\n",
       "      <td>43</td>\n",
       "      <td>12.210</td>\n",
       "    </tr>\n",
       "    <tr>\n",
       "      <th>43</th>\n",
       "      <td>23.09.2022</td>\n",
       "      <td>44</td>\n",
       "      <td>12.230</td>\n",
       "    </tr>\n",
       "  </tbody>\n",
       "</table>\n",
       "</div>"
      ],
      "text/plain": [
       "         Fecha  Número de día  Precio Fibras MTY stock\n",
       "0   25.07.2022              1                   11.924\n",
       "1   26.07.2022              2                   12.003\n",
       "2   27.07.2022              3                   11.934\n",
       "3   28.07.2022              4                   11.924\n",
       "4   29.07.2022              5                   11.924\n",
       "5   01.08.2022              6                   11.924\n",
       "6   02.08.2022              7                   11.934\n",
       "7   03.08.2022              8                   11.944\n",
       "8   04.08.2022              9                   11.973\n",
       "9   05.08.2022             10                   11.973\n",
       "10  08.08.2022             11                   11.963\n",
       "11  09.08.2022             12                   11.963\n",
       "12  10.08.2022             13                   11.924\n",
       "13  11.08.2022             14                   11.963\n",
       "14  12.08.2022             15                   11.953\n",
       "15  15.08.2022             16                   11.973\n",
       "16  16.08.2022             17                   11.934\n",
       "17  17.08.2022             18                   11.944\n",
       "18  18.08.2022             19                   11.934\n",
       "19  19.08.2022             20                   11.953\n",
       "20  22.08.2022             21                   11.924\n",
       "21  23.08.2022             22                   11.944\n",
       "22  24.08.2022             23                   11.934\n",
       "23  25.08.2022             24                   11.983\n",
       "24  26.08.2022             25                   12.063\n",
       "25  29.08.2022             26                   11.987\n",
       "26  30.08.2022             27                   11.997\n",
       "27  31.08.2022             28                   11.977\n",
       "28  01.09.2022             29                   11.987\n",
       "29  02.09.2022             30                   12.007\n",
       "30  05.09.2022             31                   12.017\n",
       "31  06.09.2022             32                   12.067\n",
       "32  07.09.2022             33                   12.136\n",
       "33  08.09.2022             34                   12.150\n",
       "34  09.09.2022             35                   12.140\n",
       "35  12.09.2022             36                   12.140\n",
       "36  13.09.2022             37                   12.160\n",
       "37  14.09.2022             38                   12.200\n",
       "38  15.09.2022             39                   12.200\n",
       "39  19.09.2022             40                   12.220\n",
       "40  20.09.2022             41                   12.240\n",
       "41  21.09.2022             42                   12.200\n",
       "42  22.09.2022             43                   12.210\n",
       "43  23.09.2022             44                   12.230"
      ]
     },
     "execution_count": 711,
     "metadata": {},
     "output_type": "execute_result"
    }
   ],
   "source": [
    "archivo = 'fibras.MTY.csv'\n",
    "data = pd.read_csv(archivo)\n",
    "data\n"
   ]
  },
  {
   "cell_type": "code",
   "execution_count": 712,
   "id": "c3cdc719",
   "metadata": {},
   "outputs": [],
   "source": [
    "import numpy as np\n",
    "import scipy.optimize as opt\n",
    "import matplotlib.pyplot as plt\n",
    "%matplotlib inline\n"
   ]
  },
  {
   "cell_type": "code",
   "execution_count": 713,
   "id": "ec34e03c",
   "metadata": {},
   "outputs": [],
   "source": [
    "x = data.iloc[:,1]\n",
    "y = data.iloc[:,2]\n",
    "x_norm = (x-min(x))/(max(x)-min(x))\n",
    "y_norm = (y-min(y))/(max(y)-min(y))"
   ]
  },
  {
   "cell_type": "code",
   "execution_count": 717,
   "id": "b968068e",
   "metadata": {},
   "outputs": [
    {
     "data": {
      "text/plain": [
       "[<matplotlib.lines.Line2D at 0x7fda60d5cc10>]"
      ]
     },
     "execution_count": 717,
     "metadata": {},
     "output_type": "execute_result"
    },
    {
     "data": {
      "image/png": "[encoded data removed]",
      "text/plain": [
       "<Figure size 432x288 with 1 Axes>"
      ]
     },
     "metadata": {
      "needs_background": "light"
     },
     "output_type": "display_data"
    }
   ],
   "source": [
    "plt.plot(x_norm, y_norm, '*g')"
   ]
  },
  {
   "cell_type": "code",
   "execution_count": 554,
   "id": "cee191a2",
   "metadata": {},
   "outputs": [],
   "source": [
    "def fun_obj(beta,x,y,n):\n",
    "    yhat = beta.dot([x**i for i in range(n+1)])\n",
    "    error = y-yhat\n",
    "    return np.sum(error**2)"
   ]
  },
  {
   "cell_type": "code",
   "execution_count": 555,
   "id": "58776a8f",
   "metadata": {},
   "outputs": [],
   "source": [
    "#Ajusta polinomio de grado 1\n",
    "b01 = np.zeros(2)    #beta_inicial\n",
    "ajuste1 = opt.minimize(fun_obj, b01, args=(x_norm,y_norm,1))\n",
    "\n",
    "#Ajusta polinomio de grado 2\n",
    "b02 = np.zeros(3)\n",
    "ajuste2 = opt.minimize(fun_obj, b02, args=(x_norm,y_norm,2))\n",
    "\n",
    "#Ajusta polinomio de grado 3\n",
    "b03 = np.zeros(4)\n",
    "ajuste3 = opt.minimize(fun_obj, b03, args=(x_norm,y_norm,3))\n",
    "\n",
    "#Ajusta polinomio de grado 4\n",
    "b04 = np.zeros(5)\n",
    "ajuste4 = opt.minimize(fun_obj, b04, args=(x_norm,y_norm,4))\n"
   ]
  },
  {
   "cell_type": "code",
   "execution_count": 556,
   "id": "e650c9cb",
   "metadata": {},
   "outputs": [
    {
     "data": {
      "text/plain": [
       "      fun: 1.3004990597312813\n",
       " hess_inv: array([[ 0.24234713, -0.42701716],\n",
       "       [-0.42701716,  0.79029112]])\n",
       "      jac: array([6.25848770e-07, 1.34110451e-07])\n",
       "  message: 'Optimization terminated successfully.'\n",
       "     nfev: 15\n",
       "      nit: 2\n",
       "     njev: 5\n",
       "   status: 0\n",
       "  success: True\n",
       "        x: array([-0.16638857,  0.96827771])"
      ]
     },
     "execution_count": 556,
     "metadata": {},
     "output_type": "execute_result"
    }
   ],
   "source": [
    "ajuste1"
   ]
  },
  {
   "cell_type": "code",
   "execution_count": 557,
   "id": "e5a0c2c0",
   "metadata": {},
   "outputs": [
    {
     "data": {
      "text/plain": [
       "      fun: 0.44479757835030576\n",
       " hess_inv: array([[ 0.0935112 , -0.36966403,  0.30451251],\n",
       "       [-0.36966403,  2.00087989, -1.87057686],\n",
       "       [ 0.30451251, -1.87057686,  1.87057686]])\n",
       "      jac: array([0., 0., 0.])\n",
       "  message: 'Optimization terminated successfully.'\n",
       "     nfev: 32\n",
       "      nit: 5\n",
       "     njev: 8\n",
       "   status: 0\n",
       "  success: True\n",
       "        x: array([ 0.1248799 , -0.82094295,  1.78922068])"
      ]
     },
     "execution_count": 557,
     "metadata": {},
     "output_type": "execute_result"
    }
   ],
   "source": [
    "ajuste2"
   ]
  },
  {
   "cell_type": "code",
   "execution_count": 558,
   "id": "ab359b2d",
   "metadata": {},
   "outputs": [
    {
     "data": {
      "text/plain": [
       "      fun: 0.44457899482649105\n",
       " hess_inv: array([[  0.15204961,  -1.11780308,   2.19971226,  -1.2647823 ],\n",
       "       [ -1.11780308,  11.55909738, -26.07952438,  16.15441631],\n",
       "       [  2.19971226, -26.07952438,  63.18151099, -40.91009489],\n",
       "       [ -1.2647823 ,  16.15441631, -40.91009489,  27.2966261 ]])\n",
       "      jac: array([ 8.94069672e-08, -4.02331352e-07,  4.95463610e-07, -1.15483999e-07])\n",
       "  message: 'Optimization terminated successfully.'\n",
       "     nfev: 70\n",
       "      nit: 9\n",
       "     njev: 14\n",
       "   status: 0\n",
       "  success: True\n",
       "        x: array([ 0.11973707, -0.75543393,  1.62354885,  0.11044902])"
      ]
     },
     "execution_count": 558,
     "metadata": {},
     "output_type": "execute_result"
    }
   ],
   "source": [
    "ajuste3"
   ]
  },
  {
   "cell_type": "code",
   "execution_count": 559,
   "id": "7e548374",
   "metadata": {},
   "outputs": [
    {
     "data": {
      "text/plain": [
       "      fun: 0.3300673642921815\n",
       " hess_inv: array([[ 2.08691388e-01, -2.51272043e+00,  8.84848336e+00,\n",
       "        -1.18254794e+01,  5.31565449e+00],\n",
       "       [-2.51272043e+00,  4.34034082e+01, -1.74610772e+02,\n",
       "         2.50092513e+02, -1.17324902e+02],\n",
       "       [ 8.84848336e+00, -1.74610772e+02,  7.51001316e+02,\n",
       "        -1.12075684e+03,  5.40681355e+02],\n",
       "       [-1.18254794e+01,  2.50092513e+02, -1.12075684e+03,\n",
       "         1.71985885e+03, -8.46672335e+02],\n",
       "       [ 5.31565449e+00, -1.17324902e+02,  5.40681355e+02,\n",
       "        -8.46672335e+02,  4.23274134e+02]])\n",
       "      jac: array([-7.41332769e-07,  2.04518437e-06,  7.89761543e-07, -8.23289156e-07,\n",
       "       -1.89989805e-06])\n",
       "  message: 'Optimization terminated successfully.'\n",
       "     nfev: 180\n",
       "      nit: 27\n",
       "     njev: 30\n",
       "   status: 0\n",
       "  success: True\n",
       "        x: array([-2.14721638e-03,  1.96397422e+00, -1.09439824e+01,  1.98066875e+01,\n",
       "       -9.84811409e+00])"
      ]
     },
     "execution_count": 559,
     "metadata": {},
     "output_type": "execute_result"
    }
   ],
   "source": [
    "ajuste4"
   ]
  },
  {
   "cell_type": "code",
   "execution_count": 560,
   "id": "c5c73ff7",
   "metadata": {},
   "outputs": [],
   "source": [
    "yhat1 = ajuste1.x.dot([x_norm**i for i in range(2)])*(max(y)-min(y)) + min(y)\n",
    "yhat2 = ajuste2.x.dot([x_norm**i for i in range(3)])*(max(y)-min(y)) + min(y)\n",
    "yhat3 = ajuste3.x.dot([x_norm**i for i in range(4)])*(max(y)-min(y)) + min(y)\n",
    "yhat4 = ajuste4.x.dot([x_norm**i for i in range(5)])*(max(y)-min(y)) + min(y)"
   ]
  },
  {
   "cell_type": "code",
   "execution_count": 719,
   "id": "159c7c58",
   "metadata": {},
   "outputs": [
    {
     "data": {
      "image/png": "[encoded data removed]",
      "text/plain": [
       "<Figure size 864x720 with 1 Axes>"
      ]
     },
     "metadata": {
      "needs_background": "light"
     },
     "output_type": "display_data"
    }
   ],
   "source": [
    "plt.figure(figsize=(12,10))\n",
    "\n",
    "plt.plot(x, y, 'g*', ms=8, label='Datos fibras MTY')\n",
    "plt.plot(x, yhat1, color = \"purple\", lw=2, label='Ajuste polinomio 1')\n",
    "plt.plot(x, yhat2, color = \"red\", lw=2, label='Ajuste polinomio 2')\n",
    "plt.plot(x, yhat3, color = \"green\", lw=2, label='Ajuste polinomio 3')\n",
    "plt.plot(x, yhat4, color = \"black\", lw=2, label='Ajuste polinomio 4')\n",
    "\n",
    "plt.xlabel('Días',fontsize=20)\n",
    "plt.ylabel('Precios fibras Monterrey ',fontsize=20)\n",
    "\n",
    "plt.grid()\n",
    "plt.legend(loc='best')\n",
    "plt.show()"
   ]
  },
  {
   "cell_type": "code",
   "execution_count": 562,
   "id": "2360a478",
   "metadata": {},
   "outputs": [
    {
     "data": {
      "text/plain": [
       "[]"
      ]
     },
     "execution_count": 562,
     "metadata": {},
     "output_type": "execute_result"
    },
    {
     "data": {
      "image/png": "[encoded data removed]",
      "text/plain": [
       "<Figure size 720x576 with 1 Axes>"
      ]
     },
     "metadata": {
      "needs_background": "light"
     },
     "output_type": "display_data"
    }
   ],
   "source": [
    "e = [ajuste1.fun, ajuste2.fun, ajuste3.fun]\n",
    "grados = [1, 2, 3]\n",
    "plt.figure(figsize=(10,8))\n",
    "plt.plot(grados, e, 'oc-', ms=10, label='errores')\n",
    "plt.legend()\n",
    "plt.xlabel('Grados del polinomio', fontsize=10)\n",
    "plt.ylabel('Errores', fontsize=10)\n",
    "plt.plot()"
   ]
  },
  {
   "cell_type": "markdown",
   "id": "c0cff3af",
   "metadata": {},
   "source": [
    "Utilizaremos el polinomio de grado 5 es el más indicado para hacer predicciones y se aproxima a los puntos de la gráfica "
   ]
  },
  {
   "cell_type": "code",
   "execution_count": 563,
   "id": "7539e355",
   "metadata": {},
   "outputs": [
    {
     "data": {
      "image/png": "[encoded data removed]",
      "text/plain": [
       "<Figure size 864x720 with 1 Axes>"
      ]
     },
     "metadata": {
      "needs_background": "light"
     },
     "output_type": "display_data"
    }
   ],
   "source": [
    "plt.figure(figsize=(12,10))\n",
    "\n",
    "plt.plot(x, y, 'r*', ms=10, label='Datos')\n",
    "\n",
    "plt.plot(x, yhat4, color = \"gold\", lw=3, label='Ajuste 2')\n",
    "\n",
    "plt.xlabel('Meses',fontsize=20)\n",
    "plt.ylabel('Precios acción Fibras Monterrey ',fontsize=20)\n",
    "\n",
    "plt.grid()\n",
    "plt.legend(loc='best')\n",
    "plt.show()"
   ]
  },
  {
   "cell_type": "code",
   "execution_count": 564,
   "id": "8edb8554",
   "metadata": {},
   "outputs": [
    {
     "data": {
      "text/plain": [
       "(12.17739696828857, 12.269437810196042, 12.271063120490556, 12.23)"
      ]
     },
     "execution_count": 564,
     "metadata": {},
     "output_type": "execute_result"
    }
   ],
   "source": [
    "yhat1[43],yhat2[43],yhat3[43], y[43]\n",
    "\n"
   ]
  },
  {
   "cell_type": "code",
   "execution_count": 565,
   "id": "50149127",
   "metadata": {},
   "outputs": [
    {
     "data": {
      "text/plain": [
       "-0.052603031711431214"
      ]
     },
     "execution_count": 565,
     "metadata": {},
     "output_type": "execute_result"
    }
   ],
   "source": [
    "grado1 = yhat1[43]-y[43]\n",
    "grado1\n",
    "\n"
   ]
  },
  {
   "cell_type": "code",
   "execution_count": 566,
   "id": "10d218bb",
   "metadata": {},
   "outputs": [
    {
     "data": {
      "text/plain": [
       "-0.03943781019604131"
      ]
     },
     "execution_count": 566,
     "metadata": {},
     "output_type": "execute_result"
    }
   ],
   "source": [
    "grado2 = -yhat2[43]+y[43]\n",
    "grado2"
   ]
  },
  {
   "cell_type": "code",
   "execution_count": 567,
   "id": "f83e18c7",
   "metadata": {},
   "outputs": [
    {
     "data": {
      "text/plain": [
       "-0.041063120490555605"
      ]
     },
     "execution_count": 567,
     "metadata": {},
     "output_type": "execute_result"
    }
   ],
   "source": [
    "grado3 = -yhat3[43]+y[43]\n",
    "grado3"
   ]
  },
  {
   "cell_type": "code",
   "execution_count": null,
   "id": "3ac248aa",
   "metadata": {},
   "outputs": [],
   "source": []
  },
  {
   "cell_type": "code",
   "execution_count": null,
   "id": "4b803a20",
   "metadata": {},
   "outputs": [],
   "source": []
  },
  {
   "cell_type": "code",
   "execution_count": null,
   "id": "ab01051d",
   "metadata": {},
   "outputs": [],
   "source": []
  }
 ],
 "metadata": {
  "kernelspec": {
   "display_name": "Python 3 (ipykernel)",
   "language": "python",
   "name": "python3"
  },
  "language_info": {
   "codemirror_mode": {
    "name": "ipython",
    "version": 3
   },
   "file_extension": ".py",
   "mimetype": "text/x-python",
   "name": "python",
   "nbconvert_exporter": "python",
   "pygments_lexer": "ipython3",
   "version": "3.9.12"
  }
 },
 "nbformat": 4,
 "nbformat_minor": 5
}
