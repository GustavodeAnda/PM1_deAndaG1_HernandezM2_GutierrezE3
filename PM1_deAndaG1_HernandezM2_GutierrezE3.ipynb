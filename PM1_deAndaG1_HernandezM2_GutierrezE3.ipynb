{
 "cells": [
  {
   "cell_type": "markdown",
   "id": "3e29318b",
   "metadata": {},
   "source": [
    "# Proyecto Primer módulo "
   ]
  },
  {
   "cell_type": "markdown",
   "id": "f358cee3",
   "metadata": {},
   "source": [
    "## Programación lineal\n"
   ]
  },
  {
   "cell_type": "markdown",
   "id": "00de53f1",
   "metadata": {},
   "source": []
  },
  {
   "cell_type": "markdown",
   "id": "711384ac",
   "metadata": {},
   "source": [
    "Un inversionista quiere invertir $84,000$ dólares en diferentes acciones los cuales son; AAPL, AMZN y MSFT. Cuantas acciones de AAPL, AMZN Y MSFT debería de comprar para maximizar su portafolio si se tiene un máximo capital para invertir de 84,000 dólares. Cabe mencionar que AAPL tiene una tasa del $4\\%$, MSFT $3\\%$ y AMZN $5\\%$. Al final como inversionistas, dejamos como máximo invertir un $20\\%$ en AMZN debido a que es la más vólatil de las 3 mencionadas con anterioridad y se invertira el doble en AAPL que en MSFT debido a un análisis técnico y fundamental realizado con anterioridad el cual nos da los indicadores que AAPL crecerá. Una de las restricciones es que se tiene un limite de invertir el 50% del captial por cada empresa. Cuanto debemos invertir en cada empresa para maximizar la utilidad de nuestro portafolio "
   ]
  },
  {
   "cell_type": "code",
   "execution_count": 73,
   "id": "3dda61f2",
   "metadata": {},
   "outputs": [],
   "source": [
    "import numpy as np \n",
    "import scipy.optimize as opt"
   ]
  },
  {
   "cell_type": "code",
   "execution_count": 89,
   "id": "01a7aaff",
   "metadata": {},
   "outputs": [
    {
     "data": {
      "text/plain": [
       "     con: array([0.])\n",
       "     fun: -3276.0\n",
       " message: 'Optimization terminated successfully.'\n",
       "     nit: 4\n",
       "   slack: array([0.])\n",
       "  status: 0\n",
       " success: True\n",
       "       x: array([42000., 25200., 16800.])"
      ]
     },
     "execution_count": 89,
     "metadata": {},
     "output_type": "execute_result"
    }
   ],
   "source": [
    "# Matrices\n",
    "c = -np.array([.04,.03,.05])\n",
    "\n",
    "# Restricciones de desigualdad\n",
    "A = np.array([[0,0,1]])\n",
    "\n",
    "b = np.array([.20*84000])\n",
    "\n",
    "# Restricción de igualdad\n",
    "A_eq = np.array([[1,1,1]]) \n",
    "b_eq = 84000\n",
    "\n",
    "# Límites (bounds)\n",
    "bounds = (0,84000*.50)\n",
    "\n",
    "# Resolver\n",
    "sol_bonos = opt.linprog(c,A,b,A_eq,b_eq,bounds,method='revised simplex')\n",
    "\n",
    "# Mostrar resultado\n",
    "sol_bonos"
   ]
  },
  {
   "cell_type": "markdown",
   "id": "353b7f4f",
   "metadata": {},
   "source": [
    "Para la acción de apple se le destinarán 42000 dólares, para Microsoft 25200 dólares y para Amazon 16800 dólares"
   ]
  },
  {
   "cell_type": "code",
   "execution_count": 26,
   "id": "0117e395",
   "metadata": {},
   "outputs": [],
   "source": [
    "import pandas as pd\n"
   ]
  },
  {
   "cell_type": "code",
   "execution_count": 39,
   "id": "086647ef",
   "metadata": {},
   "outputs": [
    {
     "data": {
      "text/html": [
       "<div>\n",
       "<style scoped>\n",
       "    .dataframe tbody tr th:only-of-type {\n",
       "        vertical-align: middle;\n",
       "    }\n",
       "\n",
       "    .dataframe tbody tr th {\n",
       "        vertical-align: top;\n",
       "    }\n",
       "\n",
       "    .dataframe thead th {\n",
       "        text-align: right;\n",
       "    }\n",
       "</style>\n",
       "<table border=\"1\" class=\"dataframe\">\n",
       "  <thead>\n",
       "    <tr style=\"text-align: right;\">\n",
       "      <th></th>\n",
       "      <th>Año</th>\n",
       "      <th>Precio stock Bimbo</th>\n",
       "    </tr>\n",
       "  </thead>\n",
       "  <tbody>\n",
       "    <tr>\n",
       "      <th>0</th>\n",
       "      <td>1</td>\n",
       "      <td>57.22</td>\n",
       "    </tr>\n",
       "    <tr>\n",
       "      <th>1</th>\n",
       "      <td>2</td>\n",
       "      <td>55.89</td>\n",
       "    </tr>\n",
       "    <tr>\n",
       "      <th>2</th>\n",
       "      <td>3</td>\n",
       "      <td>53.49</td>\n",
       "    </tr>\n",
       "    <tr>\n",
       "      <th>3</th>\n",
       "      <td>4</td>\n",
       "      <td>51.11</td>\n",
       "    </tr>\n",
       "    <tr>\n",
       "      <th>4</th>\n",
       "      <td>5</td>\n",
       "      <td>50.91</td>\n",
       "    </tr>\n",
       "    <tr>\n",
       "      <th>5</th>\n",
       "      <td>6</td>\n",
       "      <td>47.35</td>\n",
       "    </tr>\n",
       "    <tr>\n",
       "      <th>6</th>\n",
       "      <td>7</td>\n",
       "      <td>47.01</td>\n",
       "    </tr>\n",
       "    <tr>\n",
       "      <th>7</th>\n",
       "      <td>8</td>\n",
       "      <td>46.23</td>\n",
       "    </tr>\n",
       "    <tr>\n",
       "      <th>8</th>\n",
       "      <td>9</td>\n",
       "      <td>47.42</td>\n",
       "    </tr>\n",
       "    <tr>\n",
       "      <th>9</th>\n",
       "      <td>10</td>\n",
       "      <td>46.59</td>\n",
       "    </tr>\n",
       "    <tr>\n",
       "      <th>10</th>\n",
       "      <td>11</td>\n",
       "      <td>46.08</td>\n",
       "    </tr>\n",
       "    <tr>\n",
       "      <th>11</th>\n",
       "      <td>12</td>\n",
       "      <td>43.03</td>\n",
       "    </tr>\n",
       "  </tbody>\n",
       "</table>\n",
       "</div>"
      ],
      "text/plain": [
       "    Año  Precio stock Bimbo \n",
       "0     1                57.22\n",
       "1     2                55.89\n",
       "2     3                53.49\n",
       "3     4                51.11\n",
       "4     5                50.91\n",
       "5     6                47.35\n",
       "6     7                47.01\n",
       "7     8                46.23\n",
       "8     9                47.42\n",
       "9    10                46.59\n",
       "10   11                46.08\n",
       "11   12                43.03"
      ]
     },
     "execution_count": 39,
     "metadata": {},
     "output_type": "execute_result"
    }
   ],
   "source": [
    "archivo = 'inflación_mexico.csv'\n",
    "datos = pd.read_csv(archivo)\n",
    "datos"
   ]
  },
  {
   "cell_type": "code",
   "execution_count": 40,
   "id": "c3cdc719",
   "metadata": {},
   "outputs": [],
   "source": [
    "import numpy as np\n",
    "import scipy.optimize as opt\n",
    "import matplotlib.pyplot as plt\n",
    "%matplotlib inline\n"
   ]
  },
  {
   "cell_type": "code",
   "execution_count": 41,
   "id": "55f31eec",
   "metadata": {},
   "outputs": [],
   "source": [
    "x = datos.iloc[:,0]\n",
    "y = datos.iloc[:,1]\n",
    "x_norm = (x-min(x))/(max(x)-min(x))\n",
    "y_norm = (y-min(y))/(max(y)-min(y))"
   ]
  },
  {
   "cell_type": "code",
   "execution_count": 42,
   "id": "aa8266ff",
   "metadata": {},
   "outputs": [
    {
     "data": {
      "text/plain": [
       "[<matplotlib.lines.Line2D at 0x7ff9787aeb80>]"
      ]
     },
     "execution_count": 42,
     "metadata": {},
     "output_type": "execute_result"
    },
    {
     "data": {
      "image/png": "[encoded data removed]",
      "text/plain": [
       "<Figure size 432x288 with 1 Axes>"
      ]
     },
     "metadata": {
      "needs_background": "light"
     },
     "output_type": "display_data"
    }
   ],
   "source": [
    "plt.plot(x_norm, y_norm, '*b')"
   ]
  },
  {
   "cell_type": "code",
   "execution_count": 43,
   "id": "8a250183",
   "metadata": {},
   "outputs": [],
   "source": [
    "def fun_obj(beta,x,y,n):\n",
    "    yhat = beta.dot([x**i for i in range(n+1)])\n",
    "    error = y-yhat\n",
    "    return np.sum(error**2)"
   ]
  },
  {
   "cell_type": "code",
   "execution_count": 58,
   "id": "b561b5b9",
   "metadata": {},
   "outputs": [],
   "source": [
    "#Ajusta polinomio de grado 1\n",
    "b01 = np.zeros(2)    #beta_inicial\n",
    "ajuste1 = opt.minimize(fun_obj, b01, args=(x_norm,y_norm,1))\n",
    "\n",
    "#Ajusta polinomio de grado 2\n",
    "b02 = np.zeros(3)\n",
    "ajuste2 = opt.minimize(fun_obj, b02, args=(x_norm,y_norm,2))\n",
    "\n",
    "#Ajusta polinomio de grado 3\n",
    "b03 = np.zeros(4)\n",
    "ajuste3 = opt.minimize(fun_obj, b03, args=(x_norm,y_norm,3))\n",
    "\n",
    "#Ajusta polinomio de grado 4\n",
    "b04 = np.zeros(5)\n",
    "ajuste4 = opt.minimize(fun_obj, b04, args=(x_norm,y_norm,4))\n",
    "\n",
    "#Ajusta polinomio de grado 5\n",
    "b05 = np.zeros(6)\n",
    "ajuste5 = opt.minimize(fun_obj, b05, args=(x_norm,y_norm,5))\n",
    "\n",
    "#Ajusta polinomio de grado 6\n",
    "b06 = np.zeros(7)\n",
    "ajuste6 = opt.minimize(fun_obj, b06, args=(x_norm,y_norm,6))"
   ]
  },
  {
   "cell_type": "code",
   "execution_count": 59,
   "id": "9c7450f1",
   "metadata": {},
   "outputs": [
    {
     "data": {
      "text/plain": [
       "      fun: 0.11584749894714287\n",
       " hess_inv: array([[ 0.1474359 , -0.21153846],\n",
       "       [-0.21153846,  0.42307693]])\n",
       "      jac: array([-1.86264515e-09,  1.02445483e-08])\n",
       "  message: 'Optimization terminated successfully.'\n",
       "     nfev: 18\n",
       "      nit: 4\n",
       "     njev: 6\n",
       "   status: 0\n",
       "  success: True\n",
       "        x: array([ 0.8872897 , -0.88228437])"
      ]
     },
     "execution_count": 59,
     "metadata": {},
     "output_type": "execute_result"
    }
   ],
   "source": [
    "ajuste1"
   ]
  },
  {
   "cell_type": "code",
   "execution_count": 60,
   "id": "166c29f9",
   "metadata": {},
   "outputs": [
    {
     "data": {
      "text/plain": [
       "      fun: 0.059732015912261904\n",
       " hess_inv: array([[ 0.27331361, -1.04237365,  0.83085234],\n",
       "       [-1.04237365,  5.90682281, -5.48384029],\n",
       "       [ 0.83085234, -5.48384029,  5.48392692]])\n",
       "      jac: array([0.00000000e+00, 9.31322575e-10, 2.79396772e-09])\n",
       "  message: 'Optimization terminated successfully.'\n",
       "     nfev: 44\n",
       "      nit: 9\n",
       "     njev: 11\n",
       "   status: 0\n",
       "  success: True\n",
       "        x: array([ 1.00616629, -1.66686989,  0.78458552])"
      ]
     },
     "execution_count": 60,
     "metadata": {},
     "output_type": "execute_result"
    }
   ],
   "source": [
    "ajuste2"
   ]
  },
  {
   "cell_type": "code",
   "execution_count": 61,
   "id": "1109d280",
   "metadata": {},
   "outputs": [
    {
     "data": {
      "text/plain": [
       "      fun: 0.04797610902652624\n",
       " hess_inv: array([[   0.36581417,   -2.60081556,    4.986423  ,   -2.79356783],\n",
       "       [  -2.60081556,   30.70925086,  -70.71572197,   43.60508625],\n",
       "       [   4.986423  ,  -70.71572197,  176.26045955, -113.8818698 ],\n",
       "       [  -2.79356783,   43.60508625, -113.8818698 ,   75.83157991]])\n",
       "      jac: array([-5.30853868e-07,  8.71717930e-07,  9.51811671e-07,  9.50880349e-07])\n",
       "  message: 'Optimization terminated successfully.'\n",
       "     nfev: 110\n",
       "      nit: 20\n",
       "     njev: 22\n",
       "   status: 0\n",
       "  success: True\n",
       "        x: array([ 1.056034  , -2.43705251,  2.79592697, -1.34089429])"
      ]
     },
     "execution_count": 61,
     "metadata": {},
     "output_type": "execute_result"
    }
   ],
   "source": [
    "ajuste3"
   ]
  },
  {
   "cell_type": "code",
   "execution_count": 62,
   "id": "0a2ed7ba",
   "metadata": {},
   "outputs": [
    {
     "data": {
      "text/plain": [
       "      fun: 0.01776580011467051\n",
       " hess_inv: array([[ 4.26911261e-01, -4.73384645e+00,  1.57123174e+01,\n",
       "        -2.00358146e+01,  8.65790301e+00],\n",
       "       [-4.73384645e+00,  1.01700798e+02, -4.25814509e+02,\n",
       "         6.13619402e+02, -2.86021306e+02],\n",
       "       [ 1.57123174e+01, -4.25814509e+02,  1.94675141e+03,\n",
       "        -2.95026556e+03,  1.42138270e+03],\n",
       "       [-2.00358146e+01,  6.13619402e+02, -2.95026556e+03,\n",
       "         4.61366586e+03, -2.27193736e+03],\n",
       "       [ 8.65790301e+00, -2.86021306e+02,  1.42138270e+03,\n",
       "        -2.27193736e+03,  1.13675837e+03]])\n",
       "      jac: array([ 2.03726813e-07, -3.55532393e-07, -1.97207555e-07, -2.82656401e-07,\n",
       "       -4.02098522e-07])\n",
       "  message: 'Optimization terminated successfully.'\n",
       "     nfev: 210\n",
       "      nit: 33\n",
       "     njev: 35\n",
       "   status: 0\n",
       "  success: True\n",
       "        x: array([ 0.9919394 , -0.34148839, -7.59379377, 15.24743279, -8.29417246])"
      ]
     },
     "execution_count": 62,
     "metadata": {},
     "output_type": "execute_result"
    }
   ],
   "source": [
    "ajuste4"
   ]
  },
  {
   "cell_type": "code",
   "execution_count": 63,
   "id": "452cb53d",
   "metadata": {},
   "outputs": [
    {
     "data": {
      "text/plain": [
       "      fun: 0.015567206894323006\n",
       " hess_inv: array([[ 4.65359404e-01, -7.17262094e+00,  3.53000098e+01,\n",
       "        -7.46483162e+01,  7.08495505e+01, -2.48014119e+01],\n",
       "       [-7.17262094e+00,  2.69839035e+02, -1.79474030e+03,\n",
       "         4.45807462e+03, -4.68533528e+03,  1.76054539e+03],\n",
       "       [ 3.53000098e+01, -1.79474030e+03,  1.31010191e+04,\n",
       "        -3.42707423e+04,  3.72491747e+04, -1.43319112e+04],\n",
       "       [-7.46483162e+01,  4.45807462e+03, -3.42707423e+04,\n",
       "         9.25046831e+04, -1.02746677e+05,  4.01687337e+04],\n",
       "       [ 7.08495505e+01, -4.68533528e+03,  3.72491747e+04,\n",
       "        -1.02746677e+05,  1.15926366e+05, -4.58669142e+04],\n",
       "       [-2.48014119e+01,  1.76054539e+03, -1.43319112e+04,\n",
       "         4.01687337e+04, -4.58669142e+04,  1.83186048e+04]])\n",
       "      jac: array([ 8.00122507e-07, -1.37661118e-06, -9.93837602e-07, -8.22590664e-07,\n",
       "       -8.26199539e-07, -9.08621587e-07])\n",
       "  message: 'Optimization terminated successfully.'\n",
       "     nfev: 385\n",
       "      nit: 53\n",
       "     njev: 55\n",
       "   status: 0\n",
       "  success: True\n",
       "        x: array([ 1.00420573, -1.19882978, -0.60555864, -4.37747934, 14.1550258 ,\n",
       "       -8.97971326])"
      ]
     },
     "execution_count": 63,
     "metadata": {},
     "output_type": "execute_result"
    }
   ],
   "source": [
    "ajuste5"
   ]
  },
  {
   "cell_type": "code",
   "execution_count": 64,
   "id": "27688ddc",
   "metadata": {},
   "outputs": [
    {
     "data": {
      "text/plain": [
       "      fun: 0.01564396315939586\n",
       " hess_inv: array([[   0.39499541,   -3.36251834,    6.98937076,   -1.33649058,\n",
       "          -4.54219862,   -2.02763524,    3.91236307],\n",
       "       [  -3.36251834,   50.50264271, -131.10013703,   35.99241737,\n",
       "          94.63994223,   38.3097146 ,  -85.7207117 ],\n",
       "       [   6.98937076, -131.10013703,  376.7657479 , -121.26109657,\n",
       "        -287.18686785, -109.68702317,  268.4304146 ],\n",
       "       [  -1.33649058,   35.99241737, -121.26109657,   49.38340111,\n",
       "         100.47031156,   34.5342758 ,  -99.50597595],\n",
       "       [  -4.54219862,   94.63994223, -287.18686785,  100.47031156,\n",
       "         226.99141051,   82.96968291, -216.20521694],\n",
       "       [  -2.02763524,   38.3097146 , -109.68702317,   34.5342758 ,\n",
       "          82.96968291,   32.81525559,  -77.56811468],\n",
       "       [   3.91236307,  -85.7207117 ,  268.4304146 ,  -99.50597595,\n",
       "        -216.20521694,  -77.56811468,  210.0969639 ]])\n",
       "      jac: array([ 1.00210309e-06, -1.86148100e-06, -2.82889232e-06,  3.89502384e-06,\n",
       "       -5.17396256e-06,  7.58096576e-07, -3.97209078e-07])\n",
       "  message: 'Optimization terminated successfully.'\n",
       "     nfev: 224\n",
       "      nit: 26\n",
       "     njev: 28\n",
       "   status: 0\n",
       "  success: True\n",
       "        x: array([ 1.00281713, -1.04953635, -2.21619987,  1.96035697,  2.73283779,\n",
       "        0.6186175 , -3.0513771 ])"
      ]
     },
     "execution_count": 64,
     "metadata": {},
     "output_type": "execute_result"
    }
   ],
   "source": [
    "ajuste6"
   ]
  },
  {
   "cell_type": "code",
   "execution_count": 65,
   "id": "3187269d",
   "metadata": {},
   "outputs": [],
   "source": [
    "yhat1 = ajuste1.x.dot([x_norm**i for i in range(2)])*(max(y)-min(y)) + min(y)\n",
    "yhat2 = ajuste2.x.dot([x_norm**i for i in range(3)])*(max(y)-min(y)) + min(y)\n",
    "yhat3 = ajuste3.x.dot([x_norm**i for i in range(4)])*(max(y)-min(y)) + min(y)\n",
    "yhat4 = ajuste4.x.dot([x_norm**i for i in range(5)])*(max(y)-min(y)) + min(y)\n",
    "yhat5 = ajuste5.x.dot([x_norm**i for i in range(6)])*(max(y)-min(y)) + min(y)\n",
    "yhat6 = ajuste6.x.dot([x_norm**i for i in range(7)])*(max(y)-min(y)) + min(y)"
   ]
  },
  {
   "cell_type": "code",
   "execution_count": 71,
   "id": "39af138b",
   "metadata": {},
   "outputs": [
    {
     "data": {
      "image/png": "[encoded data removed]",
      "text/plain": [
       "<Figure size 864x720 with 1 Axes>"
      ]
     },
     "metadata": {
      "needs_background": "light"
     },
     "output_type": "display_data"
    }
   ],
   "source": [
    "plt.figure(figsize=(12,10))\n",
    "\n",
    "plt.plot(x, y, 'r*', ms=5, label='Datos')\n",
    "plt.plot(x, yhat1, color = \"purple\", lw=2, label='Ajuste 1')\n",
    "plt.plot(x, yhat2, color = \"red\", lw=2, label='Ajuste 2')\n",
    "plt.plot(x, yhat3, color = \"green\", lw=2, label='Ajuste 3')\n",
    "plt.plot(x, yhat4, color = \"black\", lw=2, label='Ajuste 4')\n",
    "plt.plot(x, yhat5, color = \"navy\", lw=2, label='Ajuste 5')\n",
    "plt.plot(x, yhat6, color = \"orange\", lw=2, label='Ajuste 6')\n",
    "\n",
    "plt.xlabel('Meses',fontsize=20)\n",
    "plt.ylabel('Precios acción Bimbo',fontsize=20)\n",
    "\n",
    "plt.grid()\n",
    "plt.legend(loc='best')\n",
    "plt.show()"
   ]
  },
  {
   "cell_type": "code",
   "execution_count": 72,
   "id": "e40a3565",
   "metadata": {},
   "outputs": [
    {
     "data": {
      "text/plain": [
       "[]"
      ]
     },
     "execution_count": 72,
     "metadata": {},
     "output_type": "execute_result"
    },
    {
     "data": {
      "image/png": "[encoded data removed]",
      "text/plain": [
       "<Figure size 720x576 with 1 Axes>"
      ]
     },
     "metadata": {
      "needs_background": "light"
     },
     "output_type": "display_data"
    }
   ],
   "source": [
    "e = [ajuste1.fun, ajuste2.fun, ajuste3.fun, ajuste4.fun, ajuste5.fun, ajuste6.fun]\n",
    "grados = [1, 2, 3 ,4, 5, 6]\n",
    "plt.figure(figsize=(10,8))\n",
    "plt.plot(grados, e, 'ob-', ms=10, label='errores')\n",
    "plt.legend()\n",
    "plt.xlabel('Grados del polinomio', fontsize=10)\n",
    "plt.ylabel('Errores', fontsize=10)\n",
    "plt.plot()"
   ]
  },
  {
   "cell_type": "code",
   "execution_count": null,
   "id": "064fdcbc",
   "metadata": {},
   "outputs": [],
   "source": []
  }
 ],
 "metadata": {
  "kernelspec": {
   "display_name": "Python 3 (ipykernel)",
   "language": "python",
   "name": "python3"
  },
  "language_info": {
   "codemirror_mode": {
    "name": "ipython",
    "version": 3
   },
   "file_extension": ".py",
   "mimetype": "text/x-python",
   "name": "python",
   "nbconvert_exporter": "python",
   "pygments_lexer": "ipython3",
   "version": "3.9.12"
  }
 },
 "nbformat": 4,
 "nbformat_minor": 5
}
