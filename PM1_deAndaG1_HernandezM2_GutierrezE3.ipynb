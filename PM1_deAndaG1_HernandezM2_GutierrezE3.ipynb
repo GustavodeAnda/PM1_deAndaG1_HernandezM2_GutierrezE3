{
 "cells": [
  {
   "cell_type": "markdown",
   "id": "3e29318b",
   "metadata": {},
   "source": [
    "# Proyecto Primer módulo "
   ]
  },
  {
   "cell_type": "markdown",
   "id": "f358cee3",
   "metadata": {},
   "source": [
    "## Problema programación lineal:\n",
    "### Portafolio de inversiones \n"
   ]
  },
  {
   "cell_type": "markdown",
   "id": "c8493423",
   "metadata": {},
   "source": [
    "Un inversionista dispone de $\\$100,000$ MXN y quiere sacar el máximo provecho de un portafolio de inversiones conservador. Este se divide en 4 tipos de activos; Cetes, Bonos del gobierno, Pagarés y ETF's todos y cada uno de los activos tienen una tasa de renta fija debido al estilo de portafolio el cual es conservador. El portafolio se divide en 3; activos con tasa libre de riesgo (60%), activos bajo riesgo (30%) y activos bajo-medio riesgo (10%) activos con tasas libres de riesgo (Cetes 9.8%, Bonos gubernamentales 10.14% y Bonos del tesoro 3.05%), activos de bajo riesgo; Pagarés bancarios (pagaré inbursa 9.7%, pagaré BAM 9.30%, pagaré Multiva 8.02% y pagaré Banorte 4.44%) y activos de riesgo bajo-medio; ETF'S (Short-Term Treasury ETF 0.04%, ESG U.S. Corporate Bond ETF 0.12%, Extended Duration Treasury ETF 0.06). Para cada activo máximo se puede invertir un 25% de capital de que se dispone.\n"
   ]
  },
  {
   "cell_type": "markdown",
   "id": "c53f8856",
   "metadata": {},
   "source": [
    "- ( Comisión Nacional para la Protección y Defensa de los Usuarios de Servicios Financieros, México 2022 )\n",
    "- ( Banxico, México 2022 )\n",
    "- ( Todos los ETFs Vanguard Mexico, s. f. )\n",
    "- ( Rendimiento del bono Estados Unidos 10 años, 2022. )\n",
    "\n"
   ]
  },
  {
   "cell_type": "markdown",
   "id": "5785a4f9",
   "metadata": {},
   "source": [
    "#### Objetivo:\n",
    "Plantear el problema de manera lineal, importar los paquetes que sean necesarios, realizar las operaciones necesarias para maximizar la utilidad del portafolio, respetar las restricciones planteadas y revisar la utilidad obtenida."
   ]
  },
  {
   "cell_type": "markdown",
   "id": "35af9ad8",
   "metadata": {},
   "source": [
    "**Libre de riesgo 60%**\n",
    "\n",
    "- Cetes 9.8%\n",
    "- Bonos gubernamentales 10.14%\n",
    "- Bonos del tesoro EUA 3.05% \n",
    "\n",
    "**Riesgo bajo 30%**\n",
    "\n",
    "- Pagaré Inbursa 9.75%           \n",
    "- Pagaré BAM 9.30\\%\n",
    "- Pagaré Multiva 8.02\\%\n",
    "- Pagaré Banorte 4.44\\%\n",
    "\n",
    "**Riesgo bajo-medio 10%**\n",
    "\n",
    "- Short-Term Treasury ETF 0.04\\%           \n",
    "- ESG U.S. Corporate Bond ETF 0.12\\%\n",
    "- Extended Duration Treasury ETF 0.06\\%\n",
    "\n",
    "\n"
   ]
  },
  {
   "cell_type": "code",
   "execution_count": 107,
   "id": "3dda61f2",
   "metadata": {},
   "outputs": [],
   "source": [
    "import numpy as np \n",
    "import scipy.optimize as opt"
   ]
  },
  {
   "cell_type": "code",
   "execution_count": 108,
   "id": "01a7aaff",
   "metadata": {
    "scrolled": true
   },
   "outputs": [],
   "source": [
    "# Matrices y cotas\n",
    "c = -np.array([9.8,10.14,3.05,9.75,9.30,8.02,4.44,0.04,0.12,0.06])/100\n",
    "\n",
    "# Restricciones de desigualdad\n",
    "A = np.array([[1,1,1,0,0,0,0,0,0,0],\n",
    "             [0,0,0,1,1,1,1,0,0,0],\n",
    "             [0,0,0,0,0,0,0,1,1,1]])\n",
    "\n",
    "b = np.array([0.60*100000,.30*100000,.10*100000])\n",
    "\n",
    "# Restricción de igualdad\n",
    "A_eq = np.array([[1,1,1,1,1,1,1,1,1,1]])\n",
    "b_eq = ([100000])\n",
    "\n",
    "#Límites (bounds)\n",
    "bounds = (0,100000*.25)"
   ]
  },
  {
   "cell_type": "code",
   "execution_count": 109,
   "id": "7c9d1c91",
   "metadata": {},
   "outputs": [],
   "source": [
    "# Resolver\n",
    "sol_portafolio = opt.linprog(c,A,b,A_eq,b_eq,bounds,method='revised simplex')"
   ]
  },
  {
   "cell_type": "code",
   "execution_count": 110,
   "id": "7ac3c70b",
   "metadata": {},
   "outputs": [
    {
     "data": {
      "text/plain": [
       "     con: array([0.])\n",
       "     fun: -8204.5\n",
       " message: 'Optimization terminated successfully.'\n",
       "     nit: 8\n",
       "   slack: array([0., 0., 0.])\n",
       "  status: 0\n",
       " success: True\n",
       "       x: array([25000., 25000., 10000., 25000.,  5000.,     0.,     0.,     0.,\n",
       "       10000.,     0.])"
      ]
     },
     "execution_count": 110,
     "metadata": {},
     "output_type": "execute_result"
    }
   ],
   "source": [
    "sol_portafolio"
   ]
  },
  {
   "cell_type": "code",
   "execution_count": null,
   "id": "b3ada25a",
   "metadata": {},
   "outputs": [],
   "source": []
  },
  {
   "cell_type": "markdown",
   "id": "9c28c82b",
   "metadata": {},
   "source": [
    "## Conclusión\n",
    "Para maximizar la utilidad del portafolio se deberá invertir:\n",
    "- $\\$25,000$ en Cetes\n",
    "- $\\$25,000$ en Bonos del gobierno\n",
    "- $\\$10,000$ en Bonos del tesoro \n",
    "- $\\$25,000$ en Pagarés inbursa\n",
    "- $\\$5,000$ en Pagarés BAM\n",
    "- $\\$10,000$ en ESG U.S. Corporate Bond ETF 0.12%\n"
   ]
  },
  {
   "cell_type": "code",
   "execution_count": 111,
   "id": "87be8e75",
   "metadata": {},
   "outputs": [
    {
     "data": {
      "text/plain": [
       "8204.5"
      ]
     },
     "execution_count": 111,
     "metadata": {},
     "output_type": "execute_result"
    }
   ],
   "source": [
    "utilidad = 25000*(9.8/100)+25000*(10.14/100)+10000*(3.05/100)+25000*(9.75/100)+5000*(9.30/100)+10000*(.12/100)\n",
    "utilidad"
   ]
  },
  {
   "cell_type": "markdown",
   "id": "efec3b4a",
   "metadata": {},
   "source": [
    "De acuerdo a los objetivos planteados, se interpretó adecuadamente una situación de interés práctico que en este caso es saber que cantidad de dinero se invierte en cada activo mediante un funcional de costo y sus respectivas restricciones. Se pudo obtener la función objetivo en este caso a maximizar y se logró construir las matrices de \"A\", \"b\" y \"c\" para así obtener una solución real, la cual se mostró en el punto anterior.\n",
    "\n"
   ]
  },
  {
   "cell_type": "markdown",
   "id": "9ad4ba90",
   "metadata": {},
   "source": [
    "**Y el portafolio tendría una utilidad anual de $\\$8204.5$ MXN**"
   ]
  },
  {
   "cell_type": "markdown",
   "id": "edb942de",
   "metadata": {},
   "source": [
    "## Problema ajuste de curvas"
   ]
  },
  {
   "cell_type": "markdown",
   "id": "d33d5cf4",
   "metadata": {},
   "source": [
    "Para el ajuste de curvas se decidió evaluar los precios de la acción fibras MTY con la finalidad de poder predecir los precios futuros."
   ]
  },
  {
   "cell_type": "markdown",
   "id": "7d7e3515",
   "metadata": {},
   "source": [
    "#### Objetivo:\n",
    "Importar pandas, importar los datos obtenidos de la acción a la que se desea hacer el ajuste de curva ."
   ]
  },
  {
   "cell_type": "code",
   "execution_count": 112,
   "id": "0117e395",
   "metadata": {},
   "outputs": [],
   "source": [
    "import pandas as pd\n"
   ]
  },
  {
   "cell_type": "code",
   "execution_count": 113,
   "id": "086647ef",
   "metadata": {},
   "outputs": [
    {
     "data": {
      "text/html": [
       "<div>\n",
       "<style scoped>\n",
       "    .dataframe tbody tr th:only-of-type {\n",
       "        vertical-align: middle;\n",
       "    }\n",
       "\n",
       "    .dataframe tbody tr th {\n",
       "        vertical-align: top;\n",
       "    }\n",
       "\n",
       "    .dataframe thead th {\n",
       "        text-align: right;\n",
       "    }\n",
       "</style>\n",
       "<table border=\"1\" class=\"dataframe\">\n",
       "  <thead>\n",
       "    <tr style=\"text-align: right;\">\n",
       "      <th></th>\n",
       "      <th>Fecha</th>\n",
       "      <th>Número de día</th>\n",
       "      <th>Precio Fibras MTY stock</th>\n",
       "    </tr>\n",
       "  </thead>\n",
       "  <tbody>\n",
       "    <tr>\n",
       "      <th>0</th>\n",
       "      <td>25.07.2022</td>\n",
       "      <td>1</td>\n",
       "      <td>11.924</td>\n",
       "    </tr>\n",
       "    <tr>\n",
       "      <th>1</th>\n",
       "      <td>26.07.2022</td>\n",
       "      <td>2</td>\n",
       "      <td>12.003</td>\n",
       "    </tr>\n",
       "    <tr>\n",
       "      <th>2</th>\n",
       "      <td>27.07.2022</td>\n",
       "      <td>3</td>\n",
       "      <td>11.934</td>\n",
       "    </tr>\n",
       "    <tr>\n",
       "      <th>3</th>\n",
       "      <td>28.07.2022</td>\n",
       "      <td>4</td>\n",
       "      <td>11.924</td>\n",
       "    </tr>\n",
       "    <tr>\n",
       "      <th>4</th>\n",
       "      <td>29.07.2022</td>\n",
       "      <td>5</td>\n",
       "      <td>11.924</td>\n",
       "    </tr>\n",
       "    <tr>\n",
       "      <th>5</th>\n",
       "      <td>01.08.2022</td>\n",
       "      <td>6</td>\n",
       "      <td>11.924</td>\n",
       "    </tr>\n",
       "    <tr>\n",
       "      <th>6</th>\n",
       "      <td>02.08.2022</td>\n",
       "      <td>7</td>\n",
       "      <td>11.934</td>\n",
       "    </tr>\n",
       "    <tr>\n",
       "      <th>7</th>\n",
       "      <td>03.08.2022</td>\n",
       "      <td>8</td>\n",
       "      <td>11.944</td>\n",
       "    </tr>\n",
       "    <tr>\n",
       "      <th>8</th>\n",
       "      <td>04.08.2022</td>\n",
       "      <td>9</td>\n",
       "      <td>11.973</td>\n",
       "    </tr>\n",
       "    <tr>\n",
       "      <th>9</th>\n",
       "      <td>05.08.2022</td>\n",
       "      <td>10</td>\n",
       "      <td>11.973</td>\n",
       "    </tr>\n",
       "    <tr>\n",
       "      <th>10</th>\n",
       "      <td>08.08.2022</td>\n",
       "      <td>11</td>\n",
       "      <td>11.963</td>\n",
       "    </tr>\n",
       "    <tr>\n",
       "      <th>11</th>\n",
       "      <td>09.08.2022</td>\n",
       "      <td>12</td>\n",
       "      <td>11.963</td>\n",
       "    </tr>\n",
       "    <tr>\n",
       "      <th>12</th>\n",
       "      <td>10.08.2022</td>\n",
       "      <td>13</td>\n",
       "      <td>11.924</td>\n",
       "    </tr>\n",
       "    <tr>\n",
       "      <th>13</th>\n",
       "      <td>11.08.2022</td>\n",
       "      <td>14</td>\n",
       "      <td>11.963</td>\n",
       "    </tr>\n",
       "    <tr>\n",
       "      <th>14</th>\n",
       "      <td>12.08.2022</td>\n",
       "      <td>15</td>\n",
       "      <td>11.953</td>\n",
       "    </tr>\n",
       "    <tr>\n",
       "      <th>15</th>\n",
       "      <td>15.08.2022</td>\n",
       "      <td>16</td>\n",
       "      <td>11.973</td>\n",
       "    </tr>\n",
       "    <tr>\n",
       "      <th>16</th>\n",
       "      <td>16.08.2022</td>\n",
       "      <td>17</td>\n",
       "      <td>11.934</td>\n",
       "    </tr>\n",
       "    <tr>\n",
       "      <th>17</th>\n",
       "      <td>17.08.2022</td>\n",
       "      <td>18</td>\n",
       "      <td>11.944</td>\n",
       "    </tr>\n",
       "    <tr>\n",
       "      <th>18</th>\n",
       "      <td>18.08.2022</td>\n",
       "      <td>19</td>\n",
       "      <td>11.934</td>\n",
       "    </tr>\n",
       "    <tr>\n",
       "      <th>19</th>\n",
       "      <td>19.08.2022</td>\n",
       "      <td>20</td>\n",
       "      <td>11.953</td>\n",
       "    </tr>\n",
       "    <tr>\n",
       "      <th>20</th>\n",
       "      <td>22.08.2022</td>\n",
       "      <td>21</td>\n",
       "      <td>11.924</td>\n",
       "    </tr>\n",
       "    <tr>\n",
       "      <th>21</th>\n",
       "      <td>23.08.2022</td>\n",
       "      <td>22</td>\n",
       "      <td>11.944</td>\n",
       "    </tr>\n",
       "    <tr>\n",
       "      <th>22</th>\n",
       "      <td>24.08.2022</td>\n",
       "      <td>23</td>\n",
       "      <td>11.934</td>\n",
       "    </tr>\n",
       "    <tr>\n",
       "      <th>23</th>\n",
       "      <td>25.08.2022</td>\n",
       "      <td>24</td>\n",
       "      <td>11.983</td>\n",
       "    </tr>\n",
       "    <tr>\n",
       "      <th>24</th>\n",
       "      <td>26.08.2022</td>\n",
       "      <td>25</td>\n",
       "      <td>12.063</td>\n",
       "    </tr>\n",
       "    <tr>\n",
       "      <th>25</th>\n",
       "      <td>29.08.2022</td>\n",
       "      <td>26</td>\n",
       "      <td>11.987</td>\n",
       "    </tr>\n",
       "    <tr>\n",
       "      <th>26</th>\n",
       "      <td>30.08.2022</td>\n",
       "      <td>27</td>\n",
       "      <td>11.997</td>\n",
       "    </tr>\n",
       "    <tr>\n",
       "      <th>27</th>\n",
       "      <td>31.08.2022</td>\n",
       "      <td>28</td>\n",
       "      <td>11.977</td>\n",
       "    </tr>\n",
       "    <tr>\n",
       "      <th>28</th>\n",
       "      <td>01.09.2022</td>\n",
       "      <td>29</td>\n",
       "      <td>11.987</td>\n",
       "    </tr>\n",
       "    <tr>\n",
       "      <th>29</th>\n",
       "      <td>02.09.2022</td>\n",
       "      <td>30</td>\n",
       "      <td>12.007</td>\n",
       "    </tr>\n",
       "    <tr>\n",
       "      <th>30</th>\n",
       "      <td>05.09.2022</td>\n",
       "      <td>31</td>\n",
       "      <td>12.017</td>\n",
       "    </tr>\n",
       "    <tr>\n",
       "      <th>31</th>\n",
       "      <td>06.09.2022</td>\n",
       "      <td>32</td>\n",
       "      <td>12.067</td>\n",
       "    </tr>\n",
       "    <tr>\n",
       "      <th>32</th>\n",
       "      <td>07.09.2022</td>\n",
       "      <td>33</td>\n",
       "      <td>12.136</td>\n",
       "    </tr>\n",
       "    <tr>\n",
       "      <th>33</th>\n",
       "      <td>08.09.2022</td>\n",
       "      <td>34</td>\n",
       "      <td>12.150</td>\n",
       "    </tr>\n",
       "    <tr>\n",
       "      <th>34</th>\n",
       "      <td>09.09.2022</td>\n",
       "      <td>35</td>\n",
       "      <td>12.140</td>\n",
       "    </tr>\n",
       "    <tr>\n",
       "      <th>35</th>\n",
       "      <td>12.09.2022</td>\n",
       "      <td>36</td>\n",
       "      <td>12.140</td>\n",
       "    </tr>\n",
       "    <tr>\n",
       "      <th>36</th>\n",
       "      <td>13.09.2022</td>\n",
       "      <td>37</td>\n",
       "      <td>12.160</td>\n",
       "    </tr>\n",
       "    <tr>\n",
       "      <th>37</th>\n",
       "      <td>14.09.2022</td>\n",
       "      <td>38</td>\n",
       "      <td>12.200</td>\n",
       "    </tr>\n",
       "    <tr>\n",
       "      <th>38</th>\n",
       "      <td>15.09.2022</td>\n",
       "      <td>39</td>\n",
       "      <td>12.200</td>\n",
       "    </tr>\n",
       "    <tr>\n",
       "      <th>39</th>\n",
       "      <td>19.09.2022</td>\n",
       "      <td>40</td>\n",
       "      <td>12.220</td>\n",
       "    </tr>\n",
       "    <tr>\n",
       "      <th>40</th>\n",
       "      <td>20.09.2022</td>\n",
       "      <td>41</td>\n",
       "      <td>12.240</td>\n",
       "    </tr>\n",
       "    <tr>\n",
       "      <th>41</th>\n",
       "      <td>21.09.2022</td>\n",
       "      <td>42</td>\n",
       "      <td>12.200</td>\n",
       "    </tr>\n",
       "    <tr>\n",
       "      <th>42</th>\n",
       "      <td>22.09.2022</td>\n",
       "      <td>43</td>\n",
       "      <td>12.210</td>\n",
       "    </tr>\n",
       "    <tr>\n",
       "      <th>43</th>\n",
       "      <td>23.09.2022</td>\n",
       "      <td>44</td>\n",
       "      <td>12.230</td>\n",
       "    </tr>\n",
       "  </tbody>\n",
       "</table>\n",
       "</div>"
      ],
      "text/plain": [
       "         Fecha  Número de día  Precio Fibras MTY stock\n",
       "0   25.07.2022              1                   11.924\n",
       "1   26.07.2022              2                   12.003\n",
       "2   27.07.2022              3                   11.934\n",
       "3   28.07.2022              4                   11.924\n",
       "4   29.07.2022              5                   11.924\n",
       "5   01.08.2022              6                   11.924\n",
       "6   02.08.2022              7                   11.934\n",
       "7   03.08.2022              8                   11.944\n",
       "8   04.08.2022              9                   11.973\n",
       "9   05.08.2022             10                   11.973\n",
       "10  08.08.2022             11                   11.963\n",
       "11  09.08.2022             12                   11.963\n",
       "12  10.08.2022             13                   11.924\n",
       "13  11.08.2022             14                   11.963\n",
       "14  12.08.2022             15                   11.953\n",
       "15  15.08.2022             16                   11.973\n",
       "16  16.08.2022             17                   11.934\n",
       "17  17.08.2022             18                   11.944\n",
       "18  18.08.2022             19                   11.934\n",
       "19  19.08.2022             20                   11.953\n",
       "20  22.08.2022             21                   11.924\n",
       "21  23.08.2022             22                   11.944\n",
       "22  24.08.2022             23                   11.934\n",
       "23  25.08.2022             24                   11.983\n",
       "24  26.08.2022             25                   12.063\n",
       "25  29.08.2022             26                   11.987\n",
       "26  30.08.2022             27                   11.997\n",
       "27  31.08.2022             28                   11.977\n",
       "28  01.09.2022             29                   11.987\n",
       "29  02.09.2022             30                   12.007\n",
       "30  05.09.2022             31                   12.017\n",
       "31  06.09.2022             32                   12.067\n",
       "32  07.09.2022             33                   12.136\n",
       "33  08.09.2022             34                   12.150\n",
       "34  09.09.2022             35                   12.140\n",
       "35  12.09.2022             36                   12.140\n",
       "36  13.09.2022             37                   12.160\n",
       "37  14.09.2022             38                   12.200\n",
       "38  15.09.2022             39                   12.200\n",
       "39  19.09.2022             40                   12.220\n",
       "40  20.09.2022             41                   12.240\n",
       "41  21.09.2022             42                   12.200\n",
       "42  22.09.2022             43                   12.210\n",
       "43  23.09.2022             44                   12.230"
      ]
     },
     "execution_count": 113,
     "metadata": {},
     "output_type": "execute_result"
    }
   ],
   "source": [
    "archivo = 'fibras.MTY.csv'\n",
    "data = pd.read_csv(archivo)\n",
    "data\n"
   ]
  },
  {
   "cell_type": "markdown",
   "id": "4317bb12",
   "metadata": {},
   "source": [
    "(Acciones Fibra MtyPI | Precio de la acción FMTY14, 2022)"
   ]
  },
  {
   "cell_type": "code",
   "execution_count": 114,
   "id": "c3cdc719",
   "metadata": {},
   "outputs": [],
   "source": [
    "import numpy as np\n",
    "import scipy.optimize as opt\n",
    "import matplotlib.pyplot as plt\n",
    "%matplotlib inline\n"
   ]
  },
  {
   "cell_type": "code",
   "execution_count": 115,
   "id": "ec34e03c",
   "metadata": {},
   "outputs": [],
   "source": [
    "#escalado de datos por medio de la normalización, para que los datos sean congruentes\n",
    "x = data.iloc[:,1]\n",
    "y = data.iloc[:,2]\n",
    "x_norm = (x-min(x))/(max(x)-min(x))\n",
    "y_norm = (y-min(y))/(max(y)-min(y))"
   ]
  },
  {
   "cell_type": "code",
   "execution_count": 116,
   "id": "b968068e",
   "metadata": {},
   "outputs": [
    {
     "data": {
      "text/plain": [
       "Text(0, 0.5, '$y_{norm}$')"
      ]
     },
     "execution_count": 116,
     "metadata": {},
     "output_type": "execute_result"
    },
    {
     "data": {
      "image/png": "[encoded data removed]",
      "text/plain": [
       "<Figure size 288x288 with 1 Axes>"
      ]
     },
     "metadata": {
      "needs_background": "light"
     },
     "output_type": "display_data"
    }
   ],
   "source": [
    "plt.figure(figsize = (4,4))\n",
    "plt.plot(x_norm, y_norm, '*g') #gráfica de todos los puntos de la tabla importada (fibras mty)\n",
    "\n",
    "plt.xlabel('$x_{norm}$', fontsize = 14)\n",
    "plt.ylabel('$y_{norm}$', fontsize = 14)"
   ]
  },
  {
   "cell_type": "code",
   "execution_count": 117,
   "id": "cee191a2",
   "metadata": {},
   "outputs": [],
   "source": [
    "#función objetivo de nuestro problema, ya se encuentra ridge \n",
    "def fun_obj(beta,x,y,n): \n",
    "    yhat = beta.dot([x**i for i in range(n+1)])\n",
    "    error = y-yhat #y - el estimado \n",
    "    return np.sum(error**2) #nos da el escalar, minimizar la norma del error  "
   ]
  },
  {
   "cell_type": "code",
   "execution_count": 118,
   "id": "58776a8f",
   "metadata": {},
   "outputs": [],
   "source": [
    "#Ajusta polinomio de grado 1\n",
    "b01 = np.zeros(2)    #beta_inicial\n",
    "ajuste1 = opt.minimize(fun_obj, b01, args=(x_norm,y_norm,1))\n",
    "\n",
    "#Ajusta polinomio de grado 2\n",
    "b02 = np.zeros(3)\n",
    "ajuste2 = opt.minimize(fun_obj, b02, args=(x_norm,y_norm,2))\n",
    "\n",
    "#Ajusta polinomio de grado 3\n",
    "b03 = np.zeros(4)\n",
    "ajuste3 = opt.minimize(fun_obj, b03, args=(x_norm,y_norm,3))\n",
    "\n",
    "#Ajusta polinomio de grado 4\n",
    "b04 = np.zeros(5)\n",
    "ajuste4 = opt.minimize(fun_obj, b04, args=(x_norm,y_norm,4))\n"
   ]
  },
  {
   "cell_type": "code",
   "execution_count": 119,
   "id": "e650c9cb",
   "metadata": {},
   "outputs": [
    {
     "data": {
      "text/plain": [
       "      fun: 1.3004990597312813\n",
       " hess_inv: array([[ 0.24234713, -0.42701716],\n",
       "       [-0.42701716,  0.79029112]])\n",
       "      jac: array([6.25848770e-07, 1.34110451e-07])\n",
       "  message: 'Optimization terminated successfully.'\n",
       "     nfev: 15\n",
       "      nit: 2\n",
       "     njev: 5\n",
       "   status: 0\n",
       "  success: True\n",
       "        x: array([-0.16638857,  0.96827771])"
      ]
     },
     "execution_count": 119,
     "metadata": {},
     "output_type": "execute_result"
    }
   ],
   "source": [
    "ajuste1"
   ]
  },
  {
   "cell_type": "code",
   "execution_count": 120,
   "id": "e5a0c2c0",
   "metadata": {},
   "outputs": [
    {
     "data": {
      "text/plain": [
       "      fun: 0.44479757835030576\n",
       " hess_inv: array([[ 0.0935112 , -0.36966403,  0.30451251],\n",
       "       [-0.36966403,  2.00087989, -1.87057686],\n",
       "       [ 0.30451251, -1.87057686,  1.87057686]])\n",
       "      jac: array([0., 0., 0.])\n",
       "  message: 'Optimization terminated successfully.'\n",
       "     nfev: 32\n",
       "      nit: 5\n",
       "     njev: 8\n",
       "   status: 0\n",
       "  success: True\n",
       "        x: array([ 0.1248799 , -0.82094295,  1.78922068])"
      ]
     },
     "execution_count": 120,
     "metadata": {},
     "output_type": "execute_result"
    }
   ],
   "source": [
    "ajuste2"
   ]
  },
  {
   "cell_type": "code",
   "execution_count": 121,
   "id": "ab359b2d",
   "metadata": {},
   "outputs": [
    {
     "data": {
      "text/plain": [
       "      fun: 0.44457899482649105\n",
       " hess_inv: array([[  0.15204961,  -1.11780308,   2.19971226,  -1.2647823 ],\n",
       "       [ -1.11780308,  11.55909738, -26.07952438,  16.15441631],\n",
       "       [  2.19971226, -26.07952438,  63.18151099, -40.91009489],\n",
       "       [ -1.2647823 ,  16.15441631, -40.91009489,  27.2966261 ]])\n",
       "      jac: array([ 8.94069672e-08, -4.02331352e-07,  4.95463610e-07, -1.15483999e-07])\n",
       "  message: 'Optimization terminated successfully.'\n",
       "     nfev: 70\n",
       "      nit: 9\n",
       "     njev: 14\n",
       "   status: 0\n",
       "  success: True\n",
       "        x: array([ 0.11973707, -0.75543393,  1.62354885,  0.11044902])"
      ]
     },
     "execution_count": 121,
     "metadata": {},
     "output_type": "execute_result"
    }
   ],
   "source": [
    "ajuste3"
   ]
  },
  {
   "cell_type": "code",
   "execution_count": 122,
   "id": "7e548374",
   "metadata": {},
   "outputs": [
    {
     "data": {
      "text/plain": [
       "      fun: 0.3300673642921815\n",
       " hess_inv: array([[ 2.08691388e-01, -2.51272043e+00,  8.84848336e+00,\n",
       "        -1.18254794e+01,  5.31565449e+00],\n",
       "       [-2.51272043e+00,  4.34034082e+01, -1.74610772e+02,\n",
       "         2.50092513e+02, -1.17324902e+02],\n",
       "       [ 8.84848336e+00, -1.74610772e+02,  7.51001316e+02,\n",
       "        -1.12075684e+03,  5.40681355e+02],\n",
       "       [-1.18254794e+01,  2.50092513e+02, -1.12075684e+03,\n",
       "         1.71985885e+03, -8.46672335e+02],\n",
       "       [ 5.31565449e+00, -1.17324902e+02,  5.40681355e+02,\n",
       "        -8.46672335e+02,  4.23274134e+02]])\n",
       "      jac: array([-7.41332769e-07,  2.04518437e-06,  7.89761543e-07, -8.23289156e-07,\n",
       "       -1.89989805e-06])\n",
       "  message: 'Optimization terminated successfully.'\n",
       "     nfev: 180\n",
       "      nit: 27\n",
       "     njev: 30\n",
       "   status: 0\n",
       "  success: True\n",
       "        x: array([-2.14721638e-03,  1.96397422e+00, -1.09439824e+01,  1.98066875e+01,\n",
       "       -9.84811409e+00])"
      ]
     },
     "execution_count": 122,
     "metadata": {},
     "output_type": "execute_result"
    }
   ],
   "source": [
    "ajuste4"
   ]
  },
  {
   "cell_type": "code",
   "execution_count": 123,
   "id": "c5c73ff7",
   "metadata": {},
   "outputs": [],
   "source": [
    "yhat1 = ajuste1.x.dot([x_norm**i for i in range(2)])*(max(y)-min(y)) + min(y) # regresamos la y a la variable original, a la escala original polinomio 1 \n",
    "yhat2 = ajuste2.x.dot([x_norm**i for i in range(3)])*(max(y)-min(y)) + min(y) # regresamos la y a la variable original, a la escala original polinomio 2\n",
    "yhat3 = ajuste3.x.dot([x_norm**i for i in range(4)])*(max(y)-min(y)) + min(y) # regresamos la y a la variable original, a la escala original polinomio 3\n",
    "yhat4 = ajuste4.x.dot([x_norm**i for i in range(5)])*(max(y)-min(y)) + min(y) # regresamos la y a la variable original, a la escala original polinomio 4"
   ]
  },
  {
   "cell_type": "code",
   "execution_count": 124,
   "id": "159c7c58",
   "metadata": {},
   "outputs": [
    {
     "data": {
      "image/png": "[encoded data removed]",
      "text/plain": [
       "<Figure size 864x720 with 1 Axes>"
      ]
     },
     "metadata": {
      "needs_background": "light"
     },
     "output_type": "display_data"
    }
   ],
   "source": [
    "#Gráfica con los ajustes a la curva, de los polinomios 1,2,3 y 4 \n",
    "plt.figure(figsize=(12,10))\n",
    "\n",
    "plt.plot(x, y, 'g*', ms=8, label='Datos fibras MTY')\n",
    "plt.plot(x, yhat1, color = \"purple\", lw=2, label='Ajuste polinomio 1')\n",
    "plt.plot(x, yhat2, color = \"red\", lw=2, label='Ajuste polinomio 2')\n",
    "plt.plot(x, yhat3, color = \"green\", lw=2, label='Ajuste polinomio 3')\n",
    "plt.plot(x, yhat4, color = \"black\", lw=2, label='Ajuste polinomio 4')\n",
    "\n",
    "plt.xlabel('Días',fontsize=20)\n",
    "plt.ylabel('Precios fibras Monterrey ',fontsize=20)\n",
    "\n",
    "plt.grid()\n",
    "plt.legend(loc='best')\n",
    "plt.show()"
   ]
  },
  {
   "cell_type": "markdown",
   "id": "c04f3a4f",
   "metadata": {},
   "source": [
    "## Conclusión ajuste de curva fibras MTY \n",
    "A simple vista se puede captar que los polinomios que mejor se ajustan a dicha curva son los de grado 2 y 3, sin embargo, todavía no se toma en cuenta el overfitting."
   ]
  },
  {
   "cell_type": "code",
   "execution_count": 125,
   "id": "2360a478",
   "metadata": {},
   "outputs": [
    {
     "data": {
      "text/plain": [
       "[]"
      ]
     },
     "execution_count": 125,
     "metadata": {},
     "output_type": "execute_result"
    },
    {
     "data": {
      "image/png": "[encoded data removed]",
      "text/plain": [
       "<Figure size 720x576 with 1 Axes>"
      ]
     },
     "metadata": {
      "needs_background": "light"
     },
     "output_type": "display_data"
    }
   ],
   "source": [
    "# agregamos vector de error cuadrático \n",
    "e = [ajuste1.fun, ajuste2.fun, ajuste3.fun] #fun=errror\n",
    "grados = [1, 2, 3] # grados de las funciones\n",
    "plt.figure(figsize=(10,8))\n",
    "plt.plot(grados, e, 'oc-', ms=12, label='errores') #grados en las x, error en la y\n",
    "plt.legend()\n",
    "plt.xlabel('Grados del polinomio', fontsize=10)\n",
    "plt.ylabel('Errores', fontsize=10)\n",
    "plt.plot()"
   ]
  },
  {
   "cell_type": "code",
   "execution_count": 126,
   "id": "32efcc50",
   "metadata": {},
   "outputs": [
    {
     "data": {
      "image/png": "[encoded data removed]",
      "text/plain": [
       "<Figure size 864x720 with 1 Axes>"
      ]
     },
     "metadata": {
      "needs_background": "light"
     },
     "output_type": "display_data"
    }
   ],
   "source": [
    "#Grafica con la curva que se ajusta mejor a los datos de los precios \n",
    "plt.figure(figsize=(12,10))\n",
    "\n",
    "plt.plot(x, y, 'r*', ms=10, label='Datos')\n",
    "\n",
    "plt.plot(x, yhat2, color = \"gold\", lw=3, label='Ajuste 2')\n",
    "\n",
    "plt.xlabel('Meses',fontsize=20)\n",
    "plt.ylabel('Precios acción Fibras Monterrey ',fontsize=20)\n",
    "\n",
    "plt.grid()\n",
    "plt.legend(loc='best')\n",
    "plt.show()"
   ]
  },
  {
   "cell_type": "code",
   "execution_count": 127,
   "id": "8edb8554",
   "metadata": {},
   "outputs": [
    {
     "data": {
      "text/plain": [
       "(12.17739696828857, 12.269437810196042, 12.271063120490556, 12.23)"
      ]
     },
     "execution_count": 127,
     "metadata": {},
     "output_type": "execute_result"
    }
   ],
   "source": [
    "yhat1[43],yhat2[43],yhat3[43], y[43] #comparar los puntos yhat con y para ver cual es más preciso \n",
    "\n"
   ]
  },
  {
   "cell_type": "code",
   "execution_count": 128,
   "id": "ee62777f",
   "metadata": {},
   "outputs": [
    {
     "data": {
      "text/plain": [
       "-0.052603031711431214"
      ]
     },
     "execution_count": 128,
     "metadata": {},
     "output_type": "execute_result"
    }
   ],
   "source": [
    "grado1 = yhat1[43]-y[43] #Diferencia de yhat1 con y\n",
    "grado1\n",
    "\n"
   ]
  },
  {
   "cell_type": "code",
   "execution_count": 129,
   "id": "553ac34e",
   "metadata": {},
   "outputs": [
    {
     "data": {
      "text/plain": [
       "-0.03943781019604131"
      ]
     },
     "execution_count": 129,
     "metadata": {},
     "output_type": "execute_result"
    }
   ],
   "source": [
    "grado2 = -yhat2[43]+y[43] #grado que es más preciso para el ajuste, Diferencia de yhat2 con y\n",
    "grado2"
   ]
  },
  {
   "cell_type": "code",
   "execution_count": 130,
   "id": "e67d3ecc",
   "metadata": {
    "scrolled": true
   },
   "outputs": [
    {
     "data": {
      "text/plain": [
       "-0.041063120490555605"
      ]
     },
     "execution_count": 130,
     "metadata": {},
     "output_type": "execute_result"
    }
   ],
   "source": [
    "grado3 = -yhat3[43]+y[43] #Diferencia de yhat3 con y\n",
    "grado3"
   ]
  },
  {
   "cell_type": "code",
   "execution_count": 133,
   "id": "10a00a84",
   "metadata": {},
   "outputs": [
    {
     "data": {
      "text/plain": [
       "array([11.96346205, 12.20075003, 12.21718579, 12.23411233, 12.25152968,\n",
       "       12.26943781])"
      ]
     },
     "execution_count": 133,
     "metadata": {},
     "output_type": "execute_result"
    }
   ],
   "source": [
    "def f(x):\n",
    "    x_norm = (x-min(x))/(max(x)-min(x))\n",
    "    yhat2 = (ajuste2.x.dot([x_norm**i for i in range(3)])*(max(y)-min(y))) + min(y) # regresamos la y a la variable original, a la escala original polinomio 2\n",
    "    return yhat2\n",
    "f(np.array([0,44,45,46,47,48]))\n",
    "\n"
   ]
  },
  {
   "cell_type": "markdown",
   "id": "221d1581",
   "metadata": {},
   "source": [
    "## Conclusión final ajuste de curvas \n",
    "El polinomio que mejor estima este dato es el polinomio de grado 2 y al mismo tiempo es el que mejor se ajusta. Al mismo tiempo se pudo predecir de manera exitosa el precio del día de hoy 26/sep/2022.\n",
    "\n",
    "De acuerdo a los objetivos planteados, se interpretó adecuadamente que podemos hacer en perspectiva de los datos que se nos muestra en la tabla que vimos anteriormente de manera para ver que tan factible disponer de este instrumento que es la fibra."
   ]
  },
  {
   "cell_type": "markdown",
   "id": "27a3aec5",
   "metadata": {},
   "source": [
    "## Bibliografías APA\n",
    "**Programación lineal**\n",
    "\n",
    "- Comisión Nacional para la Protección y Defensa de los Usuarios de Servicios Financieros | México, 2022). condusef.gob.mx. Recuperado 25 de septiembre de 2022, de https://simulador.condusef.gob.mx/condusefahorro/imprime_tasas.php?instituciones_mostradas=5&fecha_inicio_base=2006-01-02&fecha_fin_base=2022-09-18&monto=%3C1000000&fecha_tasa=2022-09-18&plazo_tasa=360\n",
    "\n",
    "- Valores Gubernamentales (Banxico). (s. f.). Recuperado 25 de septiembre de 2022, de https://www.banxico.org.mx/SieInternet/consultarDirectorioInternetAction.do?sector=22&accion=consultarCuadro&idCuadro=CF107&locale=es\n",
    "\n",
    "- Rendimiento del bono Estados Unidos 10 años. (s. f.). Investing.com México. Recuperado 25 de septiembre de 2022, de https://mx.investing.com/rates-bonds/u.s.-10-year-bond-yield\n",
    "\n",
    "- Todos los ETFs | Vanguard Mexico. (s. f.). Recuperado 25 de septiembre de 2022, de https://www.vanguardmexico.com/es/productos/productos-financieros/etf?assetClass=fixedIncome&tab=descripci%C3%B3n%20general%20del%20fondo&selectedFilter=fixedIncome\n",
    "\n",
    "**Ajuste de curvas**\n",
    "\n",
    "- Acciones Fibra MtyPI | Precio de la acción FMTY14. (2022, 23 septiembre). Investing.com México. Recuperado 25 de septiembre de 2022, de https://mx.investing.com/equities/fibra-mty-sapi-de-cv\n"
   ]
  }
 ],
 "metadata": {
  "kernelspec": {
   "display_name": "Python 3 (ipykernel)",
   "language": "python",
   "name": "python3"
  },
  "language_info": {
   "codemirror_mode": {
    "name": "ipython",
    "version": 3
   },
   "file_extension": ".py",
   "mimetype": "text/x-python",
   "name": "python",
   "nbconvert_exporter": "python",
   "pygments_lexer": "ipython3",
   "version": "3.9.12"
  }
 },
 "nbformat": 4,
 "nbformat_minor": 5
}
