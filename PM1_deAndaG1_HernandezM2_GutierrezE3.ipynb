{
 "cells": [
  {
   "cell_type": "markdown",
   "id": "3e29318b",
   "metadata": {},
   "source": [
    "# Proyecto Primer módulo "
   ]
  },
  {
   "cell_type": "markdown",
   "id": "f358cee3",
   "metadata": {},
   "source": [
    "## Programación lineal\n"
   ]
  },
  {
   "cell_type": "markdown",
   "id": "00de53f1",
   "metadata": {},
   "source": []
  },
  {
   "cell_type": "markdown",
   "id": "711384ac",
   "metadata": {},
   "source": [
    "Un inversionista quiere invertir $84,000$ dólares en diferentes acciones los cuales son; AAPL, AMZN y MSFT. Cuantas acciones de AAPL, AMZN Y MSFT debería de comprar para maximizar su portafolio si se tiene un máximo capital para invertir de 84,000 dólares. Cabe mencionar que AAPL tiene una tasa del $4\\%$, MSFT $3\\%$ y AMZN $5\\%$. Al final como inversionistas, dejamos como máximo invertir un $20\\%$ en AMZN debido a que es la más vólatil de las 3 mencionadas con anterioridad y se invertira el doble en AAPL que en MSFT debido a un análisis técnico y fundamental realizado con anterioridad el cual nos da los indicadores que AAPL crecerá. Una de las restricciones es que se tiene un limite de invertir el 50% del captial por cada empresa. Cuanto debemos invertir en cada empresa para maximizar la utilidad de nuestro portafolio + de 10 acciones llevarlo a más acciones "
   ]
  },
  {
   "cell_type": "code",
   "execution_count": 1,
   "id": "3dda61f2",
   "metadata": {},
   "outputs": [],
   "source": [
    "import numpy as np \n",
    "import scipy.optimize as opt"
   ]
  },
  {
   "cell_type": "code",
   "execution_count": 131,
   "id": "01a7aaff",
   "metadata": {},
   "outputs": [
    {
     "data": {
      "text/plain": [
       "     con: array([0.])\n",
       "     fun: -3276.0\n",
       " message: 'Optimization terminated successfully.'\n",
       "     nit: 4\n",
       "   slack: array([0.])\n",
       "  status: 0\n",
       " success: True\n",
       "       x: array([42000., 25200., 16800.])"
      ]
     },
     "execution_count": 131,
     "metadata": {},
     "output_type": "execute_result"
    }
   ],
   "source": [
    "# Matrices\n",
    "c = -np.array([.04,.03,.05])\n",
    "\n",
    "# Restricciones de desigualdad\n",
    "A = np.array([[0,0,1]])\n",
    "\n",
    "b = np.array([.20*84000])\n",
    "\n",
    "# Restricción de igualdad\n",
    "A_eq = np.array([[1,1,1]]) \n",
    "b_eq = 84000\n",
    "\n",
    "# Límites (bounds)\n",
    "bounds = (0,84000*.50)\n",
    "\n",
    "# Resolver\n",
    "sol_bonos = opt.linprog(c,A,b,A_eq,b_eq,bounds,method='revised simplex')\n",
    "\n",
    "# Mostrar resultado\n",
    "sol_bonos"
   ]
  },
  {
   "cell_type": "markdown",
   "id": "9c28c82b",
   "metadata": {},
   "source": [
    "Para la acción de apple se le destinarán 42000 dólares, para Microsoft 25200 dólares y para Amazon 16800 dólares"
   ]
  },
  {
   "cell_type": "code",
   "execution_count": 173,
   "id": "0117e395",
   "metadata": {},
   "outputs": [],
   "source": [
    "import pandas as pd\n"
   ]
  },
  {
   "cell_type": "code",
   "execution_count": 196,
   "id": "086647ef",
   "metadata": {},
   "outputs": [
    {
     "data": {
      "text/html": [
       "<div>\n",
       "<style scoped>\n",
       "    .dataframe tbody tr th:only-of-type {\n",
       "        vertical-align: middle;\n",
       "    }\n",
       "\n",
       "    .dataframe tbody tr th {\n",
       "        vertical-align: top;\n",
       "    }\n",
       "\n",
       "    .dataframe thead th {\n",
       "        text-align: right;\n",
       "    }\n",
       "</style>\n",
       "<table border=\"1\" class=\"dataframe\">\n",
       "  <thead>\n",
       "    <tr style=\"text-align: right;\">\n",
       "      <th></th>\n",
       "      <th>Días septiembre</th>\n",
       "      <th>Precio Fibras MTY stock</th>\n",
       "    </tr>\n",
       "  </thead>\n",
       "  <tbody>\n",
       "    <tr>\n",
       "      <th>0</th>\n",
       "      <td>1</td>\n",
       "      <td>11.924</td>\n",
       "    </tr>\n",
       "    <tr>\n",
       "      <th>1</th>\n",
       "      <td>2</td>\n",
       "      <td>12.003</td>\n",
       "    </tr>\n",
       "    <tr>\n",
       "      <th>2</th>\n",
       "      <td>3</td>\n",
       "      <td>11.934</td>\n",
       "    </tr>\n",
       "    <tr>\n",
       "      <th>3</th>\n",
       "      <td>4</td>\n",
       "      <td>11.924</td>\n",
       "    </tr>\n",
       "    <tr>\n",
       "      <th>4</th>\n",
       "      <td>5</td>\n",
       "      <td>11.924</td>\n",
       "    </tr>\n",
       "    <tr>\n",
       "      <th>5</th>\n",
       "      <td>6</td>\n",
       "      <td>11.924</td>\n",
       "    </tr>\n",
       "    <tr>\n",
       "      <th>6</th>\n",
       "      <td>7</td>\n",
       "      <td>11.934</td>\n",
       "    </tr>\n",
       "    <tr>\n",
       "      <th>7</th>\n",
       "      <td>8</td>\n",
       "      <td>11.944</td>\n",
       "    </tr>\n",
       "    <tr>\n",
       "      <th>8</th>\n",
       "      <td>9</td>\n",
       "      <td>11.973</td>\n",
       "    </tr>\n",
       "    <tr>\n",
       "      <th>9</th>\n",
       "      <td>10</td>\n",
       "      <td>11.973</td>\n",
       "    </tr>\n",
       "    <tr>\n",
       "      <th>10</th>\n",
       "      <td>11</td>\n",
       "      <td>11.963</td>\n",
       "    </tr>\n",
       "    <tr>\n",
       "      <th>11</th>\n",
       "      <td>12</td>\n",
       "      <td>11.963</td>\n",
       "    </tr>\n",
       "    <tr>\n",
       "      <th>12</th>\n",
       "      <td>13</td>\n",
       "      <td>11.924</td>\n",
       "    </tr>\n",
       "    <tr>\n",
       "      <th>13</th>\n",
       "      <td>14</td>\n",
       "      <td>11.963</td>\n",
       "    </tr>\n",
       "    <tr>\n",
       "      <th>14</th>\n",
       "      <td>15</td>\n",
       "      <td>11.953</td>\n",
       "    </tr>\n",
       "    <tr>\n",
       "      <th>15</th>\n",
       "      <td>16</td>\n",
       "      <td>11.973</td>\n",
       "    </tr>\n",
       "    <tr>\n",
       "      <th>16</th>\n",
       "      <td>17</td>\n",
       "      <td>11.934</td>\n",
       "    </tr>\n",
       "    <tr>\n",
       "      <th>17</th>\n",
       "      <td>18</td>\n",
       "      <td>11.944</td>\n",
       "    </tr>\n",
       "    <tr>\n",
       "      <th>18</th>\n",
       "      <td>19</td>\n",
       "      <td>11.934</td>\n",
       "    </tr>\n",
       "    <tr>\n",
       "      <th>19</th>\n",
       "      <td>20</td>\n",
       "      <td>11.953</td>\n",
       "    </tr>\n",
       "    <tr>\n",
       "      <th>20</th>\n",
       "      <td>21</td>\n",
       "      <td>11.924</td>\n",
       "    </tr>\n",
       "    <tr>\n",
       "      <th>21</th>\n",
       "      <td>22</td>\n",
       "      <td>11.944</td>\n",
       "    </tr>\n",
       "    <tr>\n",
       "      <th>22</th>\n",
       "      <td>23</td>\n",
       "      <td>11.934</td>\n",
       "    </tr>\n",
       "    <tr>\n",
       "      <th>23</th>\n",
       "      <td>24</td>\n",
       "      <td>11.983</td>\n",
       "    </tr>\n",
       "    <tr>\n",
       "      <th>24</th>\n",
       "      <td>25</td>\n",
       "      <td>12.063</td>\n",
       "    </tr>\n",
       "    <tr>\n",
       "      <th>25</th>\n",
       "      <td>26</td>\n",
       "      <td>11.987</td>\n",
       "    </tr>\n",
       "    <tr>\n",
       "      <th>26</th>\n",
       "      <td>27</td>\n",
       "      <td>11.997</td>\n",
       "    </tr>\n",
       "    <tr>\n",
       "      <th>27</th>\n",
       "      <td>28</td>\n",
       "      <td>11.977</td>\n",
       "    </tr>\n",
       "    <tr>\n",
       "      <th>28</th>\n",
       "      <td>29</td>\n",
       "      <td>11.987</td>\n",
       "    </tr>\n",
       "    <tr>\n",
       "      <th>29</th>\n",
       "      <td>30</td>\n",
       "      <td>12.007</td>\n",
       "    </tr>\n",
       "    <tr>\n",
       "      <th>30</th>\n",
       "      <td>31</td>\n",
       "      <td>12.017</td>\n",
       "    </tr>\n",
       "    <tr>\n",
       "      <th>31</th>\n",
       "      <td>32</td>\n",
       "      <td>12.067</td>\n",
       "    </tr>\n",
       "    <tr>\n",
       "      <th>32</th>\n",
       "      <td>33</td>\n",
       "      <td>12.136</td>\n",
       "    </tr>\n",
       "    <tr>\n",
       "      <th>33</th>\n",
       "      <td>34</td>\n",
       "      <td>12.150</td>\n",
       "    </tr>\n",
       "    <tr>\n",
       "      <th>34</th>\n",
       "      <td>35</td>\n",
       "      <td>12.140</td>\n",
       "    </tr>\n",
       "    <tr>\n",
       "      <th>35</th>\n",
       "      <td>36</td>\n",
       "      <td>12.140</td>\n",
       "    </tr>\n",
       "    <tr>\n",
       "      <th>36</th>\n",
       "      <td>37</td>\n",
       "      <td>12.160</td>\n",
       "    </tr>\n",
       "    <tr>\n",
       "      <th>37</th>\n",
       "      <td>38</td>\n",
       "      <td>12.200</td>\n",
       "    </tr>\n",
       "    <tr>\n",
       "      <th>38</th>\n",
       "      <td>39</td>\n",
       "      <td>12.200</td>\n",
       "    </tr>\n",
       "    <tr>\n",
       "      <th>39</th>\n",
       "      <td>40</td>\n",
       "      <td>12.220</td>\n",
       "    </tr>\n",
       "    <tr>\n",
       "      <th>40</th>\n",
       "      <td>41</td>\n",
       "      <td>12.240</td>\n",
       "    </tr>\n",
       "    <tr>\n",
       "      <th>41</th>\n",
       "      <td>42</td>\n",
       "      <td>12.200</td>\n",
       "    </tr>\n",
       "    <tr>\n",
       "      <th>42</th>\n",
       "      <td>43</td>\n",
       "      <td>12.210</td>\n",
       "    </tr>\n",
       "    <tr>\n",
       "      <th>43</th>\n",
       "      <td>44</td>\n",
       "      <td>12.230</td>\n",
       "    </tr>\n",
       "  </tbody>\n",
       "</table>\n",
       "</div>"
      ],
      "text/plain": [
       "    Días septiembre   Precio Fibras MTY stock\n",
       "0                  1                   11.924\n",
       "1                  2                   12.003\n",
       "2                  3                   11.934\n",
       "3                  4                   11.924\n",
       "4                  5                   11.924\n",
       "5                  6                   11.924\n",
       "6                  7                   11.934\n",
       "7                  8                   11.944\n",
       "8                  9                   11.973\n",
       "9                 10                   11.973\n",
       "10                11                   11.963\n",
       "11                12                   11.963\n",
       "12                13                   11.924\n",
       "13                14                   11.963\n",
       "14                15                   11.953\n",
       "15                16                   11.973\n",
       "16                17                   11.934\n",
       "17                18                   11.944\n",
       "18                19                   11.934\n",
       "19                20                   11.953\n",
       "20                21                   11.924\n",
       "21                22                   11.944\n",
       "22                23                   11.934\n",
       "23                24                   11.983\n",
       "24                25                   12.063\n",
       "25                26                   11.987\n",
       "26                27                   11.997\n",
       "27                28                   11.977\n",
       "28                29                   11.987\n",
       "29                30                   12.007\n",
       "30                31                   12.017\n",
       "31                32                   12.067\n",
       "32                33                   12.136\n",
       "33                34                   12.150\n",
       "34                35                   12.140\n",
       "35                36                   12.140\n",
       "36                37                   12.160\n",
       "37                38                   12.200\n",
       "38                39                   12.200\n",
       "39                40                   12.220\n",
       "40                41                   12.240\n",
       "41                42                   12.200\n",
       "42                43                   12.210\n",
       "43                44                   12.230"
      ]
     },
     "execution_count": 196,
     "metadata": {},
     "output_type": "execute_result"
    }
   ],
   "source": [
    "archivo = 'prologis.csv'\n",
    "data = pd.read_csv(archivo)\n",
    "data\n"
   ]
  },
  {
   "cell_type": "code",
   "execution_count": 197,
   "id": "c3cdc719",
   "metadata": {},
   "outputs": [],
   "source": [
    "import numpy as np\n",
    "import scipy.optimize as opt\n",
    "import matplotlib.pyplot as plt\n",
    "%matplotlib inline\n"
   ]
  },
  {
   "cell_type": "code",
   "execution_count": 198,
   "id": "ec34e03c",
   "metadata": {},
   "outputs": [],
   "source": [
    "x = data.iloc[:,0]\n",
    "y = data.iloc[:,1]\n",
    "x_norm = (x-min(x))/(max(x)-min(x))\n",
    "y_norm = (y-min(y))/(max(y)-min(y))"
   ]
  },
  {
   "cell_type": "code",
   "execution_count": 199,
   "id": "b968068e",
   "metadata": {},
   "outputs": [
    {
     "data": {
      "text/plain": [
       "[<matplotlib.lines.Line2D at 0x7fda7f391d00>]"
      ]
     },
     "execution_count": 199,
     "metadata": {},
     "output_type": "execute_result"
    },
    {
     "data": {
      "image/png": "[encoded data removed]",
      "text/plain": [
       "<Figure size 432x288 with 1 Axes>"
      ]
     },
     "metadata": {
      "needs_background": "light"
     },
     "output_type": "display_data"
    }
   ],
   "source": [
    "plt.plot(x_norm, y_norm, '*b')"
   ]
  },
  {
   "cell_type": "code",
   "execution_count": 200,
   "id": "cee191a2",
   "metadata": {},
   "outputs": [],
   "source": [
    "def fun_obj(beta,x,y,n):\n",
    "    yhat = beta.dot([x**i for i in range(n+1)])\n",
    "    error = y-yhat\n",
    "    return np.sum(error**2)"
   ]
  },
  {
   "cell_type": "code",
   "execution_count": 201,
   "id": "58776a8f",
   "metadata": {},
   "outputs": [],
   "source": [
    "#Ajusta polinomio de grado 1\n",
    "b01 = np.zeros(2)    #beta_inicial\n",
    "ajuste1 = opt.minimize(fun_obj, b01, args=(x_norm,y_norm,1))\n",
    "\n",
    "#Ajusta polinomio de grado 2\n",
    "b02 = np.zeros(3)\n",
    "ajuste2 = opt.minimize(fun_obj, b02, args=(x_norm,y_norm,2))\n",
    "\n",
    "#Ajusta polinomio de grado 3\n",
    "b03 = np.zeros(4)\n",
    "ajuste3 = opt.minimize(fun_obj, b03, args=(x_norm,y_norm,3))\n",
    "\n",
    "#Ajusta polinomio de grado 4\n",
    "b04 = np.zeros(5)\n",
    "ajuste4 = opt.minimize(fun_obj, b04, args=(x_norm,y_norm,4))\n",
    "\n",
    "#Ajusta polinomio de grado 5\n",
    "b05 = np.zeros(6)\n",
    "ajuste5 = opt.minimize(fun_obj, b05, args=(x_norm,y_norm,5))\n",
    "\n",
    "#Ajusta polinomio de grado 6\n",
    "b06 = np.zeros(7)\n",
    "ajuste6 = opt.minimize(fun_obj, b06, args=(x_norm,y_norm,6))\n",
    "\n",
    "#Ajusta polinomio de grado 7\n",
    "b07 = np.zeros(8)\n",
    "ajuste7 = opt.minimize(fun_obj, b07, args=(x_norm,y_norm,7))\n",
    "\n",
    "#Ajusta polinomio de grado 8\n",
    "b08 = np.zeros(9)\n",
    "ajuste8 = opt.minimize(fun_obj, b08, args=(x_norm,y_norm,8))\n",
    "\n",
    "#Ajusta polinomio de grado 9\n",
    "b09 = np.zeros(10)\n",
    "ajuste9 = opt.minimize(fun_obj, b09, args=(x_norm,y_norm,9))"
   ]
  },
  {
   "cell_type": "code",
   "execution_count": 202,
   "id": "e650c9cb",
   "metadata": {},
   "outputs": [
    {
     "data": {
      "text/plain": [
       "      fun: 1.3004990597312813\n",
       " hess_inv: array([[ 0.24234713, -0.42701716],\n",
       "       [-0.42701716,  0.79029112]])\n",
       "      jac: array([6.25848770e-07, 1.34110451e-07])\n",
       "  message: 'Optimization terminated successfully.'\n",
       "     nfev: 15\n",
       "      nit: 2\n",
       "     njev: 5\n",
       "   status: 0\n",
       "  success: True\n",
       "        x: array([-0.16638857,  0.96827771])"
      ]
     },
     "execution_count": 202,
     "metadata": {},
     "output_type": "execute_result"
    }
   ],
   "source": [
    "ajuste1"
   ]
  },
  {
   "cell_type": "code",
   "execution_count": 203,
   "id": "e5a0c2c0",
   "metadata": {},
   "outputs": [
    {
     "data": {
      "text/plain": [
       "      fun: 0.44479757835030576\n",
       " hess_inv: array([[ 0.0935112 , -0.36966403,  0.30451251],\n",
       "       [-0.36966403,  2.00087989, -1.87057686],\n",
       "       [ 0.30451251, -1.87057686,  1.87057686]])\n",
       "      jac: array([0., 0., 0.])\n",
       "  message: 'Optimization terminated successfully.'\n",
       "     nfev: 32\n",
       "      nit: 5\n",
       "     njev: 8\n",
       "   status: 0\n",
       "  success: True\n",
       "        x: array([ 0.1248799 , -0.82094295,  1.78922068])"
      ]
     },
     "execution_count": 203,
     "metadata": {},
     "output_type": "execute_result"
    }
   ],
   "source": [
    "ajuste2"
   ]
  },
  {
   "cell_type": "code",
   "execution_count": 204,
   "id": "ab359b2d",
   "metadata": {},
   "outputs": [
    {
     "data": {
      "text/plain": [
       "      fun: 0.44457899482649105\n",
       " hess_inv: array([[  0.15204961,  -1.11780308,   2.19971226,  -1.2647823 ],\n",
       "       [ -1.11780308,  11.55909738, -26.07952438,  16.15441631],\n",
       "       [  2.19971226, -26.07952438,  63.18151099, -40.91009489],\n",
       "       [ -1.2647823 ,  16.15441631, -40.91009489,  27.2966261 ]])\n",
       "      jac: array([ 8.94069672e-08, -4.02331352e-07,  4.95463610e-07, -1.15483999e-07])\n",
       "  message: 'Optimization terminated successfully.'\n",
       "     nfev: 70\n",
       "      nit: 9\n",
       "     njev: 14\n",
       "   status: 0\n",
       "  success: True\n",
       "        x: array([ 0.11973707, -0.75543393,  1.62354885,  0.11044902])"
      ]
     },
     "execution_count": 204,
     "metadata": {},
     "output_type": "execute_result"
    }
   ],
   "source": [
    "ajuste3"
   ]
  },
  {
   "cell_type": "code",
   "execution_count": 205,
   "id": "7e548374",
   "metadata": {},
   "outputs": [
    {
     "data": {
      "text/plain": [
       "      fun: 0.3300673642921815\n",
       " hess_inv: array([[ 2.08691388e-01, -2.51272043e+00,  8.84848336e+00,\n",
       "        -1.18254794e+01,  5.31565449e+00],\n",
       "       [-2.51272043e+00,  4.34034082e+01, -1.74610772e+02,\n",
       "         2.50092513e+02, -1.17324902e+02],\n",
       "       [ 8.84848336e+00, -1.74610772e+02,  7.51001316e+02,\n",
       "        -1.12075684e+03,  5.40681355e+02],\n",
       "       [-1.18254794e+01,  2.50092513e+02, -1.12075684e+03,\n",
       "         1.71985885e+03, -8.46672335e+02],\n",
       "       [ 5.31565449e+00, -1.17324902e+02,  5.40681355e+02,\n",
       "        -8.46672335e+02,  4.23274134e+02]])\n",
       "      jac: array([-7.41332769e-07,  2.04518437e-06,  7.89761543e-07, -8.23289156e-07,\n",
       "       -1.89989805e-06])\n",
       "  message: 'Optimization terminated successfully.'\n",
       "     nfev: 180\n",
       "      nit: 27\n",
       "     njev: 30\n",
       "   status: 0\n",
       "  success: True\n",
       "        x: array([-2.14721638e-03,  1.96397422e+00, -1.09439824e+01,  1.98066875e+01,\n",
       "       -9.84811409e+00])"
      ]
     },
     "execution_count": 205,
     "metadata": {},
     "output_type": "execute_result"
    }
   ],
   "source": [
    "ajuste4"
   ]
  },
  {
   "cell_type": "code",
   "execution_count": 206,
   "id": "0ca917a5",
   "metadata": {},
   "outputs": [
    {
     "data": {
      "text/plain": [
       "      fun: 0.2824941760385455\n",
       " hess_inv: array([[ 2.68789928e-01, -4.75361543e+00,  2.55404044e+01,\n",
       "        -5.75160620e+01,  5.73269856e+01, -2.08990266e+01],\n",
       "       [-4.75361543e+00,  1.25021859e+02, -7.76590034e+02,\n",
       "         1.88890406e+03, -1.97660698e+03,  7.45460824e+02],\n",
       "       [ 2.55404044e+01, -7.76590034e+02,  5.17332581e+03,\n",
       "        -1.31322305e+04,  1.41469291e+04, -5.44911534e+03],\n",
       "       [-5.75160620e+01,  1.88890406e+03, -1.31322305e+04,\n",
       "         3.42959517e+04, -3.77074459e+04,  1.47494161e+04],\n",
       "       [ 5.73269856e+01, -1.97660698e+03,  1.41469291e+04,\n",
       "        -3.77074459e+04,  4.20960034e+04, -1.66628558e+04],\n",
       "       [-2.08990266e+01,  7.45460824e+02, -5.44911534e+03,\n",
       "         1.47494161e+04, -1.66628558e+04,  6.65857326e+03]])\n",
       "      jac: array([-1.47894025e-06,  3.95998359e-06,  1.35228038e-06, -4.35858965e-07,\n",
       "       -1.91852450e-06, -2.92807817e-06])\n",
       "  message: 'Optimization terminated successfully.'\n",
       "     nfev: 336\n",
       "      nit: 45\n",
       "     njev: 48\n",
       "   status: 0\n",
       "  success: True\n",
       "        x: array([  0.07532592,  -0.80248984,   9.31457436, -35.11252418,\n",
       "        52.27235248, -24.84830187])"
      ]
     },
     "execution_count": 206,
     "metadata": {},
     "output_type": "execute_result"
    }
   ],
   "source": [
    "ajuste5"
   ]
  },
  {
   "cell_type": "code",
   "execution_count": 207,
   "id": "19858db4",
   "metadata": {},
   "outputs": [
    {
     "data": {
      "text/plain": [
       "      fun: 0.27782683371153183\n",
       " hess_inv: array([[ 3.21591549e-01, -7.20741696e+00,  5.18486521e+01,\n",
       "        -1.67831578e+02,  2.70895373e+02, -2.13039866e+02,\n",
       "         6.50431172e+01],\n",
       "       [-7.20741696e+00,  2.56763978e+02, -2.20769179e+03,\n",
       "         7.87645530e+03, -1.35237101e+04,  1.10972703e+04,\n",
       "        -3.49352520e+03],\n",
       "       [ 5.18486521e+01, -2.20769179e+03,  2.06936620e+04,\n",
       "        -7.78710502e+04,  1.38653073e+05, -1.16811946e+05,\n",
       "         3.75124535e+04],\n",
       "       [-1.67831578e+02,  7.87645530e+03, -7.78710502e+04,\n",
       "         3.03646971e+05, -5.54659307e+05,  4.76360868e+05,\n",
       "        -1.55281526e+05],\n",
       "       [ 2.70895373e+02, -1.35237101e+04,  1.38653073e+05,\n",
       "        -5.54659307e+05,  1.03267654e+06, -9.00078364e+05,\n",
       "         2.96864451e+05],\n",
       "       [-2.13039866e+02,  1.10972703e+04, -1.16811946e+05,\n",
       "         4.76360868e+05, -9.00078364e+05,  7.93714713e+05,\n",
       "        -2.64269697e+05],\n",
       "       [ 6.50431172e+01, -3.49352520e+03,  3.75124535e+04,\n",
       "        -1.55281526e+05,  2.96864451e+05, -2.64269697e+05,\n",
       "         8.86764503e+04]])\n",
       "      jac: array([ 2.27615237e-06, -4.91365790e-06, -8.45640898e-06,  2.74926424e-06,\n",
       "        8.40798020e-06,  5.08502126e-06, -4.22075391e-06])\n",
       "  message: 'Optimization terminated successfully.'\n",
       "     nfev: 520\n",
       "      nit: 61\n",
       "     njev: 65\n",
       "   status: 0\n",
       "  success: True\n",
       "        x: array([ 9.84735497e-02, -2.05825397e+00,  2.27307543e+01, -9.02025679e+01,\n",
       "        1.56722851e+02, -1.17115889e+02,  3.07465734e+01])"
      ]
     },
     "execution_count": 207,
     "metadata": {},
     "output_type": "execute_result"
    }
   ],
   "source": [
    "ajuste6"
   ]
  },
  {
   "cell_type": "code",
   "execution_count": 208,
   "id": "c5c73ff7",
   "metadata": {},
   "outputs": [],
   "source": [
    "yhat1 = ajuste1.x.dot([x_norm**i for i in range(2)])*(max(y)-min(y)) + min(y)\n",
    "yhat2 = ajuste2.x.dot([x_norm**i for i in range(3)])*(max(y)-min(y)) + min(y)\n",
    "yhat3 = ajuste3.x.dot([x_norm**i for i in range(4)])*(max(y)-min(y)) + min(y)\n",
    "yhat4 = ajuste4.x.dot([x_norm**i for i in range(5)])*(max(y)-min(y)) + min(y)\n",
    "yhat5 = ajuste5.x.dot([x_norm**i for i in range(6)])*(max(y)-min(y)) + min(y)\n",
    "yhat6 = ajuste6.x.dot([x_norm**i for i in range(7)])*(max(y)-min(y)) + min(y)"
   ]
  },
  {
   "cell_type": "code",
   "execution_count": 209,
   "id": "159c7c58",
   "metadata": {},
   "outputs": [
    {
     "data": {
      "image/png": "[encoded data removed]",
      "text/plain": [
       "<Figure size 864x720 with 1 Axes>"
      ]
     },
     "metadata": {
      "needs_background": "light"
     },
     "output_type": "display_data"
    }
   ],
   "source": [
    "plt.figure(figsize=(12,10))\n",
    "\n",
    "plt.plot(x, y, 'r*', ms=5, label='Datos')\n",
    "plt.plot(x, yhat1, color = \"purple\", lw=2, label='Ajuste 1')\n",
    "plt.plot(x, yhat2, color = \"red\", lw=2, label='Ajuste 2')\n",
    "plt.plot(x, yhat3, color = \"green\", lw=2, label='Ajuste 3')\n",
    "plt.plot(x, yhat4, color = \"black\", lw=2, label='Ajuste 4')\n",
    "plt.plot(x, yhat5, color = \"navy\", lw=2, label='Ajuste 5')\n",
    "plt.plot(x, yhat6, color = \"orange\", lw=2, label='Ajuste 6')\n",
    "\n",
    "plt.xlabel('Meses',fontsize=20)\n",
    "plt.ylabel('Precios acción Bimbo',fontsize=20)\n",
    "\n",
    "plt.grid()\n",
    "plt.legend(loc='best')\n",
    "plt.show()"
   ]
  },
  {
   "cell_type": "code",
   "execution_count": 217,
   "id": "2360a478",
   "metadata": {},
   "outputs": [
    {
     "data": {
      "text/plain": [
       "[]"
      ]
     },
     "execution_count": 217,
     "metadata": {},
     "output_type": "execute_result"
    },
    {
     "data": {
      "image/png": "[encoded data removed]",
      "text/plain": [
       "<Figure size 720x576 with 1 Axes>"
      ]
     },
     "metadata": {
      "needs_background": "light"
     },
     "output_type": "display_data"
    }
   ],
   "source": [
    "e = [ajuste1.fun, ajuste2.fun, ajuste3.fun]\n",
    "grados = [1, 2, 3]\n",
    "plt.figure(figsize=(10,8))\n",
    "plt.plot(grados, e, 'oc-', ms=10, label='errores')\n",
    "plt.legend()\n",
    "plt.xlabel('Grados del polinomio', fontsize=10)\n",
    "plt.ylabel('Errores', fontsize=10)\n",
    "plt.plot()"
   ]
  },
  {
   "cell_type": "markdown",
   "id": "c0cff3af",
   "metadata": {},
   "source": [
    "Utilizaremos el polinomio de grado 5 es el más indicado para hacer predicciones y se aproxima a los puntos de la gráfica "
   ]
  },
  {
   "cell_type": "code",
   "execution_count": 218,
   "id": "7539e355",
   "metadata": {},
   "outputs": [
    {
     "data": {
      "image/png": "[encoded data removed]",
      "text/plain": [
       "<Figure size 864x720 with 1 Axes>"
      ]
     },
     "metadata": {
      "needs_background": "light"
     },
     "output_type": "display_data"
    }
   ],
   "source": [
    "plt.figure(figsize=(12,10))\n",
    "\n",
    "plt.plot(x, y, 'r*', ms=10, label='Datos')\n",
    "\n",
    "plt.plot(x, yhat4, color = \"gold\", lw=3, label='Ajuste 2')\n",
    "\n",
    "plt.xlabel('Meses',fontsize=20)\n",
    "plt.ylabel('Precios acción Bimbo',fontsize=20)\n",
    "\n",
    "plt.grid()\n",
    "plt.legend(loc='best')\n",
    "plt.show()"
   ]
  },
  {
   "cell_type": "code",
   "execution_count": 222,
   "id": "8edb8554",
   "metadata": {},
   "outputs": [
    {
     "data": {
      "text/plain": [
       "(12.17739696828857, 12.269437810196042, 12.271063120490556, 12.23)"
      ]
     },
     "execution_count": 222,
     "metadata": {},
     "output_type": "execute_result"
    }
   ],
   "source": [
    "yhat1[43],yhat2[43],yhat3[43], y[43]\n",
    "\n"
   ]
  },
  {
   "cell_type": "code",
   "execution_count": 223,
   "id": "7f2fb8db",
   "metadata": {},
   "outputs": [
    {
     "data": {
      "text/plain": [
       "-0.052603031711431214"
      ]
     },
     "execution_count": 223,
     "metadata": {},
     "output_type": "execute_result"
    }
   ],
   "source": [
    "grado1 = yhat1[43]-y[43]\n",
    "grado1\n",
    "\n"
   ]
  },
  {
   "cell_type": "code",
   "execution_count": 224,
   "id": "65a43e97",
   "metadata": {},
   "outputs": [
    {
     "data": {
      "text/plain": [
       "-0.03943781019604131"
      ]
     },
     "execution_count": 224,
     "metadata": {},
     "output_type": "execute_result"
    }
   ],
   "source": [
    "grado2 = -yhat2[43]+y[43]\n",
    "grado2"
   ]
  },
  {
   "cell_type": "code",
   "execution_count": 225,
   "id": "6fd7784c",
   "metadata": {},
   "outputs": [
    {
     "data": {
      "text/plain": [
       "-0.041063120490555605"
      ]
     },
     "execution_count": 225,
     "metadata": {},
     "output_type": "execute_result"
    }
   ],
   "source": [
    "grado3 = -yhat3[43]+y[43]\n",
    "grado3"
   ]
  },
  {
   "cell_type": "code",
   "execution_count": null,
   "id": "f8e49ed4",
   "metadata": {},
   "outputs": [],
   "source": []
  },
  {
   "cell_type": "code",
   "execution_count": null,
   "id": "a5875ae2",
   "metadata": {},
   "outputs": [],
   "source": []
  },
  {
   "cell_type": "code",
   "execution_count": null,
   "id": "48280168",
   "metadata": {},
   "outputs": [],
   "source": []
  },
  {
   "cell_type": "code",
   "execution_count": null,
   "id": "e7636acd",
   "metadata": {},
   "outputs": [],
   "source": []
  },
  {
   "cell_type": "code",
   "execution_count": null,
   "id": "18486e8c",
   "metadata": {},
   "outputs": [],
   "source": []
  }
 ],
 "metadata": {
  "kernelspec": {
   "display_name": "Python 3 (ipykernel)",
   "language": "python",
   "name": "python3"
  },
  "language_info": {
   "codemirror_mode": {
    "name": "ipython",
    "version": 3
   },
   "file_extension": ".py",
   "mimetype": "text/x-python",
   "name": "python",
   "nbconvert_exporter": "python",
   "pygments_lexer": "ipython3",
   "version": "3.9.12"
  }
 },
 "nbformat": 4,
 "nbformat_minor": 5
}
