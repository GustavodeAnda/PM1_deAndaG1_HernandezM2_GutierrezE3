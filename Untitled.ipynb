{
 "cells": [
  {
   "cell_type": "markdown",
   "id": "ebf9f19f",
   "metadata": {},
   "source": [
    "<img style=\"float: right; margin: 0px 0px 15px 15px;\" src=\"https://www.invertirjoven.com/wp-content/uploads/2020/07/portafolio-de-inversiones.jpg\" width=\"400px\" height=\"500px\" />\n",
    "\n",
    "# Optimización financiera "
   ]
  },
  {
   "cell_type": "markdown",
   "id": "db2e3a7a",
   "metadata": {},
   "source": [
    "## Objetivos\n",
    "\n",
    "### Objetivos generales:\n",
    "\n",
    "#### * Analizar situaciones de interés práctico modeladas a través de problemas de optimización \n",
    "#### * Resolver de manera exacta y aproximada este tipo de problemas \n",
    "#### * Analizar las propiedades de las respectivas soluciones  de los problemas \n",
    "\n",
    "### Objetivos específicos:\n",
    "**(Programación lineal)** \n",
    "#### * Interpretar una situación de interés práctico mediante un funcional de costo con sus respectivas restricciones y limítes\n",
    "#### * Escribir la función a maximizar junto con las restricciones en programación lineal \n",
    "#### * Construir las matrices adecuadas de \"A\", \"b\" y \"c\" en base a las funciones para obtener una solución real \n",
    "#### * Resolver el problema utilizando la función linprog\n",
    "#### * Analizar la solución del problema y sus propiedades para llegar a una conclusión e interpretar el o los resultados en contexto\n"
   ]
  },
  {
   "cell_type": "markdown",
   "id": "3f2e8f1e",
   "metadata": {},
   "source": [
    "## Introducción\n",
    "\n",
    "*Un inversionista dispone de  $100,000  MXN y quiere sacar el máximo provecho de un portafolio de inversiones conservador. Este se divide en 4 tipos de activos; Cetes, Bonos del gobierno, Pagarés y ETF's todos y cada uno de los activos tienen una tasa de renta fija debido al estilo de portafolio el cual es conservador. El portafolio se divide en 3; activos con tasa libre de riesgo (60%), activos bajo riesgo (30%) y activos bajo-medio riesgo (10%) activos activos con tasas libres de riesgo (Cetes 9.8%, Bonos gubernamentales 10.14% y Bonos del tesoro 3.05%), activos de bajo riesgo; Pagarés bancarios (pagaré inbursa 9.7%, pagaré BAM 9.30%, pagaré Multiva 8.02% y pagaré Banorte 4.44%) y activos de riesgo bajo-medio; ETF'S (Short-Term Treasury ETF 0.04%, ESG U.S. Corporate Bond ETF 0.12%, Extended Duration Treasury ETF 0.06). Para cada activo máximo se puede invertir un 25% de capital de que se dispone y el activo ETF no puede superar .05% del capital total por temas del riesgo.*"
   ]
  },
  {
   "cell_type": "markdown",
   "id": "8d5b2162",
   "metadata": {},
   "source": [
    "## Modelo  \n",
    "\n",
    "Sean: \n",
    "\n",
    "- $A_1$: (Tasa de retorno de CETES = 9.8%, Riesgo= Libre)\n",
    "- $A_2$: (Tasa de retorno de Bonos del Gobierno = 10.14%, Riesgo= Libre) \n",
    "- $A_3$: (Tasa de retorno del Tesoro EUA = 3.05%, Riesgo= Libre)\n",
    "- $A_4$: (Tasa de retorno de Pagarés Inbursa  = 9.75%, Riesgo= Bajo)\n",
    "- $A_5$: (Tasa de retorno de Pagarés BAM  = 9.30%, Riesgo= Bajo)\n",
    "- $A_6$: (Tasa de retorno de Pagarés Multiva = 8.02%, Riesgo= Bajo)\n",
    "- $A_7$: (Tasa de retorno de Pagarés Banorte  = 4.44%, Riesgo= Bajo)\n",
    "- $A_8$: (Tasa de retorno de Short-Term Treasury ETF = 0.04%, Riesgo= Bajo-medio)\n",
    "- $A_9$: (Tasa de retorno de ESG U.S. Corporate Bond ETF = 0.12%, Riesgo= Bajo-medio)\n",
    "- $A_{10} $: (Tasa de retorno de Extended Duration Treasury ETF = 0.06%, Riesgo= Bajo-medio)\n",
    "\n",
    "Este problema puede ser descrito como: \n",
    "\n",
    "$$\\max_{A_1,A_2,...,A_{10}}\\sum^{10}_{i=1} A_iR_i,$$\n",
    "\n",
    "donde $A_i$ representa la cantidad invertida en el activo, y $R_i$ representa la tasa de retorno respectiva.\n",
    "\n",
    "#### Funcional de costo (Función objetivo)\n",
    "\n",
    "$$\\max_{x_1,...x_{10}} \\quad (9.8x_1+10.14x_2+3.05x_3+9.75x_4+9.30x_5+8.02x_6+4.44x_7+0.04x_8+0.12x_9+0.06x_{10})/100$$\n",
    "\n",
    "#### Restricción de igualdad \n",
    "\n",
    "$$x_1+x_2+x_3+x_4+x_5+x_6+x_7+x_8+x_9+x_{10} = 100000 $$\n",
    "\n",
    "#### Restricción de desigualdad\n",
    "\n",
    "$$x_1+x_2+x_3\\leq 60000$$\n",
    "$$x_4+x_5+x_6+x_7\\leq 30000$$\n",
    "$$x_8+x_5+x_9+x_{10}\\leq 10000$$\n",
    "\n",
    "**Con notación matricial:**\n",
    "\n",
    "- $\\boldsymbol{c}=\\left[0.098 \\quad 0.1014\\quad 0.0305\\quad 0.0975\\quad 0.0930\\quad 0.0802\\quad 0.0444\\quad 0.0004\\quad 0.0012\\quad 0.0006\\right]^\\top$,\n",
    "\n",
    "\n",
    "- $\\boldsymbol{A_{ub}}=\\left[\\begin{array}{cc}1 & 1 & 1 & 0 & 0 & 0 & 0 & 0 & 0 & 0 \\\\ 0 & 0 & 0 & 1 & 1 & 1 & 1 & 0 & 0 & 0\\\\ 0 & 0 & 0 & 0 & 0 & 0 & 0 & 1 & 1 & 1\\end{array}\\right]$, y\n",
    "\n",
    "\n",
    "- $\\boldsymbol{b_{ub}}=\\left[60000 \\quad 30000\\quad 10000\\right]^\\top$.\n",
    "\n",
    "\n",
    "- $\\boldsymbol{A_{eq}}=\\left[\\begin{array}{cc}1 & 1 & 1 & 1 & 1 & 1 & 1 & 1 & 1 & 1\\end{array}\\right]$\n",
    "\n",
    "\n",
    "- $\\boldsymbol{b_{eq}}=\\left[100000\\right]^\\top$.\n",
    "\n",
    "#### Parámetros: \n",
    "+ c: Vector con los coeficientes de función de costo (objetivo) lineal a maximizar.\n",
    "+ A_ub: Matriz con los coeficientes de $x$ de la  restricción de desigualdad.\n",
    "+ b_ub: Vector que representa los valores de cada restricción de desigualdad.\n",
    "+ A_eq: Matriz con los coeficientes de $x$ de la  restricción de igualdad.\n",
    "+ b_eq: Vector que representa los valores de cada restricción de igualdad.\n",
    "+ bounds: Define las cotas minímas y máximas correspondientes "
   ]
  },
  {
   "cell_type": "markdown",
   "id": "f3576032",
   "metadata": {},
   "source": [
    "## Solución del problema \n",
    "\n",
    "Con la función ***linprog*** pudimos obtener el resultado de la función y nos arrojó que $x_1$ es igual a 25000, $x_2$ = 25000, $x_3$ = 10000, $x_4$ = 25000, $x_5$ = 5000, $x_6$ = 0, $x_7$ = 0, $x_8$ = 0, $x_9$ = 10000 y $x_{10}$ = 0. \n",
    "\n",
    "Esto quiere decir que se tiene que invertir lo siguiente en cada activo:\n",
    "- $\\$25,000$ en Cetes\n",
    "- $\\$25,000$ en Bonos del gobierno\n",
    "- $\\$10,000$ en Bonos del tesoro \n",
    "- $\\$25,000$ en Pagarés inbursa\n",
    "- $\\$5,000$ en Pagarés BAM\n",
    "- $\\$10,000$ en ESG U.S. Corporate Bond ETF 0.12%\n",
    "\n",
    "Y los que dieron como resultado 0 quiere decir que no se debe invertir en tales activos, en este caso no se invirtió en los Pagarés Multiva y Banorte, ni en Short-Term Treasury ETF y Extended Duration Treasury ETF"
   ]
  },
  {
   "cell_type": "markdown",
   "id": "011449f0",
   "metadata": {},
   "source": [
    "## Visualizacion de la solución"
   ]
  },
  {
   "cell_type": "code",
   "execution_count": null,
   "id": "1859caad",
   "metadata": {},
   "outputs": [],
   "source": []
  }
 ],
 "metadata": {
  "kernelspec": {
   "display_name": "Python 3 (ipykernel)",
   "language": "python",
   "name": "python3"
  },
  "language_info": {
   "codemirror_mode": {
    "name": "ipython",
    "version": 3
   },
   "file_extension": ".py",
   "mimetype": "text/x-python",
   "name": "python",
   "nbconvert_exporter": "python",
   "pygments_lexer": "ipython3",
   "version": "3.9.12"
  }
 },
 "nbformat": 4,
 "nbformat_minor": 5
}
